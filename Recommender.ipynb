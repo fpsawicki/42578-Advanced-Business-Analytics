{
 "cells": [
  {
   "cell_type": "code",
   "execution_count": 1,
   "id": "b7f275fc",
   "metadata": {},
   "outputs": [],
   "source": [
    "from modules.pipeline import Pipeline"
   ]
  },
  {
   "cell_type": "code",
   "execution_count": 2,
   "id": "d3e0da3d",
   "metadata": {},
   "outputs": [
    {
     "name": "stderr",
     "output_type": "stream",
     "text": [
      "C:\\Users\\fpsaw\\Desktop\\42578-Advanced-Business-Analytics\\modules\\loader.py:113: FutureWarning: The default value of regex will change from True to False in a future version.\n",
      "  df['username'] = df['username'].str.replace(\n"
     ]
    }
   ],
   "source": [
    "pipe = Pipeline()"
   ]
  },
  {
   "cell_type": "markdown",
   "id": "e0e96b07",
   "metadata": {},
   "source": [
    "- sales quantity - poisson distribution\n",
    "- price volume - gamma distribution"
   ]
  },
  {
   "cell_type": "code",
   "execution_count": 3,
   "id": "ab7818a5",
   "metadata": {},
   "outputs": [],
   "source": [
    "import datetime\n",
    "# today = datetime.datetime.now()\n",
    "today = datetime.datetime.strptime(\"23.03.2022\", \"%d.%m.%Y\")"
   ]
  },
  {
   "cell_type": "code",
   "execution_count": 56,
   "id": "d1140047",
   "metadata": {},
   "outputs": [],
   "source": [
    "import numpy as np\n",
    "import pandas as pd\n",
    "\n",
    "import warnings\n",
    "warnings.simplefilter(\"ignore\", category=RuntimeWarning)\n",
    "warnings.simplefilter(\"ignore\", category=DeprecationWarning)"
   ]
  },
  {
   "cell_type": "code",
   "execution_count": 5,
   "id": "91d53d80",
   "metadata": {},
   "outputs": [],
   "source": [
    "df = pipe.df_sals\n",
    "df = df.loc[df.ddate > (today - datetime.timedelta(days=365 * 2))]"
   ]
  },
  {
   "cell_type": "code",
   "execution_count": 6,
   "id": "45441937",
   "metadata": {},
   "outputs": [
    {
     "name": "stderr",
     "output_type": "stream",
     "text": [
      "<ipython-input-6-0ccd2085d039>:1: SettingWithCopyWarning: \n",
      "A value is trying to be set on a copy of a slice from a DataFrame.\n",
      "Try using .loc[row_indexer,col_indexer] = value instead\n",
      "\n",
      "See the caveats in the documentation: https://pandas.pydata.org/pandas-docs/stable/user_guide/indexing.html#returning-a-view-versus-a-copy\n",
      "  df['quant_pos'] = df.quantity.apply(lambda x: x if x > 0 else 0)\n",
      "<ipython-input-6-0ccd2085d039>:2: SettingWithCopyWarning: \n",
      "A value is trying to be set on a copy of a slice from a DataFrame.\n",
      "Try using .loc[row_indexer,col_indexer] = value instead\n",
      "\n",
      "See the caveats in the documentation: https://pandas.pydata.org/pandas-docs/stable/user_guide/indexing.html#returning-a-view-versus-a-copy\n",
      "  df['quant_neg'] = df.quantity.apply(lambda x: x if x < 0 else 0)\n",
      "<ipython-input-6-0ccd2085d039>:3: SettingWithCopyWarning: \n",
      "A value is trying to be set on a copy of a slice from a DataFrame.\n",
      "Try using .loc[row_indexer,col_indexer] = value instead\n",
      "\n",
      "See the caveats in the documentation: https://pandas.pydata.org/pandas-docs/stable/user_guide/indexing.html#returning-a-view-versus-a-copy\n",
      "  df['high_value'] = (df.price / df.quantity) >= 400\n"
     ]
    }
   ],
   "source": [
    "df['quant_pos'] = df.quantity.apply(lambda x: x if x > 0 else 0)\n",
    "df['quant_neg'] = df.quantity.apply(lambda x: x if x < 0 else 0)\n",
    "df['high_value'] = (df.price / df.quantity) >= 400"
   ]
  },
  {
   "cell_type": "code",
   "execution_count": 7,
   "id": "295d52f5",
   "metadata": {},
   "outputs": [],
   "source": [
    "# by all operations\n",
    "df_total = df[['cust_id', 'sku', 'quant_pos', 'quant_neg', 'high_value', 'quantity']].groupby(['cust_id', 'sku']).sum()\n",
    "df_total['return_ratio'] = np.abs(df_total.quant_neg) / np.abs(df_total.quant_pos)\n",
    "df_total['high_value'] = df_total['high_value'].apply(lambda x: True if x > 0 else False)\n",
    "df_total = df_total.drop(columns=['quant_neg'])\n",
    "# by transactions (invoices)\n",
    "df_ops = df[['cust_id', 'sku', 'invoice_no']].groupby(['cust_id', 'sku']).count()"
   ]
  },
  {
   "cell_type": "code",
   "execution_count": 8,
   "id": "9064719f",
   "metadata": {},
   "outputs": [],
   "source": [
    "# by basket (operations = days)\n",
    "df_basket = df[['cust_id', 'sku', 'ddate', 'quantity', 'price']] \\\n",
    "            .groupby(['cust_id', 'sku', 'ddate']).sum().reset_index()\n",
    "# by product in a basket\n",
    "sku_percentiles = df_basket.groupby('sku') \\\n",
    "                           .agg({'quantity': [('quantile', lambda x: np.quantile(x, 0.9))]}) \\\n",
    "                           .droplevel(0, axis=1).reset_index()"
   ]
  },
  {
   "cell_type": "code",
   "execution_count": 9,
   "id": "7c2e6fe1",
   "metadata": {},
   "outputs": [],
   "source": [
    "# by date\n",
    "df_dates = df_basket.loc[df_basket.quantity > 0] \\\n",
    "                    .sort_values(by='ddate').groupby(['cust_id', 'sku']).agg({\n",
    "    'ddate' : [('recent', lambda x: today - x.max()), \n",
    "               ('median_interval', lambda x: x.diff().median().total_seconds() / (60*60*24))]\n",
    "}).droplevel(0, axis=1)\n",
    "df_dates['recent'] = df_dates['recent'].dt.days"
   ]
  },
  {
   "cell_type": "code",
   "execution_count": 10,
   "id": "fb95e7b8",
   "metadata": {},
   "outputs": [],
   "source": [
    "# combine\n",
    "df_metrics = pd.merge(df_total, df_ops, on=['cust_id', 'sku'])\n",
    "df_metrics = pd.merge(df_metrics, df_dates, on=['cust_id', 'sku'], how='left')\n",
    "df_metrics = pd.merge(df_metrics.reset_index(), sku_percentiles, on='sku', how='left')"
   ]
  },
  {
   "cell_type": "code",
   "execution_count": 15,
   "id": "6f8b78ef",
   "metadata": {},
   "outputs": [],
   "source": [
    "def ranking(row):\n",
    "    is_low_quantity = row.quant_pos <= 3\n",
    "    is_recent = row.recent <= 30\n",
    "    is_frequent = row.median_interval <= (30 * 3)\n",
    "    is_not_returned = row.return_ratio <= 0.33\n",
    "    is_large_volume = row.quantity >= row['quantile']\n",
    "    has_more_transactions = row.invoice_no > 1\n",
    "    \n",
    "    if(is_low_quantity):\n",
    "        if(is_recent):\n",
    "            if(has_more_transactions):\n",
    "                return 75\n",
    "            return 50\n",
    "        if(is_not_returned):\n",
    "            return 25\n",
    "        return 5\n",
    "    \n",
    "    if(is_recent):\n",
    "        if(is_frequent):\n",
    "            if(is_large_volume):\n",
    "                return 100\n",
    "            return 85\n",
    "        if(row.high_value):\n",
    "            return 75\n",
    "        return 60\n",
    "    \n",
    "    if(is_not_returned):\n",
    "        if(is_frequent):\n",
    "            if(is_large_volume):\n",
    "                return 70\n",
    "            if(row.high_value):\n",
    "                return 60\n",
    "            return 50\n",
    "        if(row.high_value):\n",
    "            return 50\n",
    "        return 40\n",
    "    return 10"
   ]
  },
  {
   "cell_type": "code",
   "execution_count": 16,
   "id": "8eae04b9",
   "metadata": {},
   "outputs": [],
   "source": [
    "df_metrics['rank'] = df_metrics.apply(ranking, axis=1)"
   ]
  },
  {
   "cell_type": "code",
   "execution_count": 14,
   "id": "f1825a9e",
   "metadata": {},
   "outputs": [
    {
     "data": {
      "text/plain": [
       "<AxesSubplot:>"
      ]
     },
     "execution_count": 14,
     "metadata": {},
     "output_type": "execute_result"
    },
    {
     "data": {
      "image/png": "[encoded data removed]",
      "text/plain": [
       "<Figure size 432x288 with 1 Axes>"
      ]
     },
     "metadata": {
      "needs_background": "light"
     },
     "output_type": "display_data"
    }
   ],
   "source": [
    "df_metrics['rank'].hist(bins=100)"
   ]
  },
  {
   "cell_type": "code",
   "execution_count": 29,
   "id": "93174589",
   "metadata": {},
   "outputs": [
    {
     "data": {
      "text/plain": [
       "<AxesSubplot:>"
      ]
     },
     "execution_count": 29,
     "metadata": {},
     "output_type": "execute_result"
    },
    {
     "data": {
      "image/png": "[encoded data removed]",
      "text/plain": [
       "<Figure size 432x288 with 1 Axes>"
      ]
     },
     "metadata": {
      "needs_background": "light"
     },
     "output_type": "display_data"
    }
   ],
   "source": [
    "df_metrics['rank'].hist(bins=200)"
   ]
  },
  {
   "cell_type": "code",
   "execution_count": 18,
   "id": "6dc87333",
   "metadata": {},
   "outputs": [
    {
     "data": {
      "text/html": [
       "<div>\n",
       "<style scoped>\n",
       "    .dataframe tbody tr th:only-of-type {\n",
       "        vertical-align: middle;\n",
       "    }\n",
       "\n",
       "    .dataframe tbody tr th {\n",
       "        vertical-align: top;\n",
       "    }\n",
       "\n",
       "    .dataframe thead th {\n",
       "        text-align: right;\n",
       "    }\n",
       "</style>\n",
       "<table border=\"1\" class=\"dataframe\">\n",
       "  <thead>\n",
       "    <tr style=\"text-align: right;\">\n",
       "      <th></th>\n",
       "      <th>cust_id</th>\n",
       "      <th>sku</th>\n",
       "      <th>quant_pos</th>\n",
       "      <th>high_value</th>\n",
       "      <th>quantity</th>\n",
       "      <th>return_ratio</th>\n",
       "      <th>invoice_no</th>\n",
       "      <th>recent</th>\n",
       "      <th>median_interval</th>\n",
       "      <th>quantile</th>\n",
       "      <th>rank</th>\n",
       "    </tr>\n",
       "  </thead>\n",
       "  <tbody>\n",
       "    <tr>\n",
       "      <th>0</th>\n",
       "      <td>00019</td>\n",
       "      <td>0-15-206</td>\n",
       "      <td>8</td>\n",
       "      <td>False</td>\n",
       "      <td>8</td>\n",
       "      <td>0.0</td>\n",
       "      <td>3</td>\n",
       "      <td>518.0</td>\n",
       "      <td>69.0</td>\n",
       "      <td>6.0</td>\n",
       "      <td>70</td>\n",
       "    </tr>\n",
       "    <tr>\n",
       "      <th>1</th>\n",
       "      <td>00019</td>\n",
       "      <td>0-20-556</td>\n",
       "      <td>16</td>\n",
       "      <td>False</td>\n",
       "      <td>16</td>\n",
       "      <td>0.0</td>\n",
       "      <td>6</td>\n",
       "      <td>34.0</td>\n",
       "      <td>77.0</td>\n",
       "      <td>6.0</td>\n",
       "      <td>70</td>\n",
       "    </tr>\n",
       "    <tr>\n",
       "      <th>2</th>\n",
       "      <td>00019</td>\n",
       "      <td>0-22-500</td>\n",
       "      <td>3</td>\n",
       "      <td>False</td>\n",
       "      <td>3</td>\n",
       "      <td>0.0</td>\n",
       "      <td>1</td>\n",
       "      <td>371.0</td>\n",
       "      <td>NaN</td>\n",
       "      <td>5.0</td>\n",
       "      <td>25</td>\n",
       "    </tr>\n",
       "    <tr>\n",
       "      <th>3</th>\n",
       "      <td>00019</td>\n",
       "      <td>0-28-500</td>\n",
       "      <td>18</td>\n",
       "      <td>False</td>\n",
       "      <td>18</td>\n",
       "      <td>0.0</td>\n",
       "      <td>5</td>\n",
       "      <td>34.0</td>\n",
       "      <td>162.5</td>\n",
       "      <td>10.0</td>\n",
       "      <td>40</td>\n",
       "    </tr>\n",
       "    <tr>\n",
       "      <th>4</th>\n",
       "      <td>00019</td>\n",
       "      <td>0-28-510</td>\n",
       "      <td>3</td>\n",
       "      <td>False</td>\n",
       "      <td>3</td>\n",
       "      <td>0.0</td>\n",
       "      <td>1</td>\n",
       "      <td>701.0</td>\n",
       "      <td>NaN</td>\n",
       "      <td>10.0</td>\n",
       "      <td>25</td>\n",
       "    </tr>\n",
       "    <tr>\n",
       "      <th>...</th>\n",
       "      <td>...</td>\n",
       "      <td>...</td>\n",
       "      <td>...</td>\n",
       "      <td>...</td>\n",
       "      <td>...</td>\n",
       "      <td>...</td>\n",
       "      <td>...</td>\n",
       "      <td>...</td>\n",
       "      <td>...</td>\n",
       "      <td>...</td>\n",
       "      <td>...</td>\n",
       "    </tr>\n",
       "    <tr>\n",
       "      <th>30993</th>\n",
       "      <td>998</td>\n",
       "      <td>KW712</td>\n",
       "      <td>17</td>\n",
       "      <td>False</td>\n",
       "      <td>17</td>\n",
       "      <td>0.0</td>\n",
       "      <td>9</td>\n",
       "      <td>42.0</td>\n",
       "      <td>48.5</td>\n",
       "      <td>4.0</td>\n",
       "      <td>70</td>\n",
       "    </tr>\n",
       "    <tr>\n",
       "      <th>30994</th>\n",
       "      <td>998</td>\n",
       "      <td>KX1650</td>\n",
       "      <td>19</td>\n",
       "      <td>False</td>\n",
       "      <td>19</td>\n",
       "      <td>0.0</td>\n",
       "      <td>7</td>\n",
       "      <td>128.0</td>\n",
       "      <td>53.5</td>\n",
       "      <td>10.0</td>\n",
       "      <td>70</td>\n",
       "    </tr>\n",
       "    <tr>\n",
       "      <th>30995</th>\n",
       "      <td>998</td>\n",
       "      <td>KX2200K</td>\n",
       "      <td>4</td>\n",
       "      <td>False</td>\n",
       "      <td>4</td>\n",
       "      <td>0.0</td>\n",
       "      <td>2</td>\n",
       "      <td>251.0</td>\n",
       "      <td>133.0</td>\n",
       "      <td>11.0</td>\n",
       "      <td>40</td>\n",
       "    </tr>\n",
       "    <tr>\n",
       "      <th>30996</th>\n",
       "      <td>998</td>\n",
       "      <td>L5.212.0091</td>\n",
       "      <td>3</td>\n",
       "      <td>False</td>\n",
       "      <td>3</td>\n",
       "      <td>0.0</td>\n",
       "      <td>1</td>\n",
       "      <td>461.0</td>\n",
       "      <td>NaN</td>\n",
       "      <td>10.0</td>\n",
       "      <td>25</td>\n",
       "    </tr>\n",
       "    <tr>\n",
       "      <th>30997</th>\n",
       "      <td>998</td>\n",
       "      <td>MT300KA</td>\n",
       "      <td>1</td>\n",
       "      <td>False</td>\n",
       "      <td>1</td>\n",
       "      <td>0.0</td>\n",
       "      <td>1</td>\n",
       "      <td>523.0</td>\n",
       "      <td>NaN</td>\n",
       "      <td>2.0</td>\n",
       "      <td>25</td>\n",
       "    </tr>\n",
       "  </tbody>\n",
       "</table>\n",
       "<p>30998 rows × 11 columns</p>\n",
       "</div>"
      ],
      "text/plain": [
       "      cust_id          sku  quant_pos  high_value  quantity  return_ratio  \\\n",
       "0       00019     0-15-206          8       False         8           0.0   \n",
       "1       00019     0-20-556         16       False        16           0.0   \n",
       "2       00019     0-22-500          3       False         3           0.0   \n",
       "3       00019     0-28-500         18       False        18           0.0   \n",
       "4       00019     0-28-510          3       False         3           0.0   \n",
       "...       ...          ...        ...         ...       ...           ...   \n",
       "30993     998        KW712         17       False        17           0.0   \n",
       "30994     998       KX1650         19       False        19           0.0   \n",
       "30995     998      KX2200K          4       False         4           0.0   \n",
       "30996     998  L5.212.0091          3       False         3           0.0   \n",
       "30997     998      MT300KA          1       False         1           0.0   \n",
       "\n",
       "       invoice_no  recent  median_interval  quantile  rank  \n",
       "0               3   518.0             69.0       6.0    70  \n",
       "1               6    34.0             77.0       6.0    70  \n",
       "2               1   371.0              NaN       5.0    25  \n",
       "3               5    34.0            162.5      10.0    40  \n",
       "4               1   701.0              NaN      10.0    25  \n",
       "...           ...     ...              ...       ...   ...  \n",
       "30993           9    42.0             48.5       4.0    70  \n",
       "30994           7   128.0             53.5      10.0    70  \n",
       "30995           2   251.0            133.0      11.0    40  \n",
       "30996           1   461.0              NaN      10.0    25  \n",
       "30997           1   523.0              NaN       2.0    25  \n",
       "\n",
       "[30998 rows x 11 columns]"
      ]
     },
     "execution_count": 18,
     "metadata": {},
     "output_type": "execute_result"
    }
   ],
   "source": [
    "df_metrics"
   ]
  },
  {
   "cell_type": "code",
   "execution_count": 114,
   "id": "f886e7f5",
   "metadata": {},
   "outputs": [],
   "source": [
    "from surprise import Dataset\n",
    "from surprise import Reader\n",
    "\n",
    "\n",
    "matrix = df_metrics[['sku', 'cust_id', 'rank']]"
   ]
  },
  {
   "cell_type": "code",
   "execution_count": 115,
   "id": "3dd4950a",
   "metadata": {},
   "outputs": [],
   "source": [
    "reader = Reader(rating_scale=(0, 100))\n",
    "data = Dataset.load_from_df(matrix, reader)"
   ]
  },
  {
   "cell_type": "code",
   "execution_count": 116,
   "id": "9fcbbfc6",
   "metadata": {},
   "outputs": [],
   "source": [
    "from surprise.model_selection import train_test_split\n",
    "from surprise.model_selection import KFold, RepeatedKFold\n",
    "from surprise import accuracy\n",
    "from surprise import SVD"
   ]
  },
  {
   "cell_type": "code",
   "execution_count": 22,
   "id": "5e368382",
   "metadata": {},
   "outputs": [],
   "source": [
    "# train, test = train_test_split(data, test_size=0.2, random_state=123, shuffle=True)\n",
    "# algo = SVD()\n",
    "\n",
    "# algo.fit(trainset)\n",
    "# predictions = algo.test(testset)\n",
    "\n",
    "# # Compute and print Root Mean Squared Error\n",
    "# accuracy.rmse(predictions, verbose=True)"
   ]
  },
  {
   "cell_type": "code",
   "execution_count": 31,
   "id": "d648f9fe",
   "metadata": {},
   "outputs": [],
   "source": [
    "from sklearn.metrics import r2_score"
   ]
  },
  {
   "cell_type": "code",
   "execution_count": 205,
   "id": "529a1593",
   "metadata": {},
   "outputs": [
    {
     "name": "stdout",
     "output_type": "stream",
     "text": [
      "R2: \t 0.2444546609792112\n",
      "MAE:  13.9265\n",
      "RMSE: 18.4291\n",
      "-----------------\n",
      "R2: \t 0.20817568882845816\n",
      "MAE:  14.2362\n",
      "RMSE: 18.8417\n",
      "-----------------\n"
     ]
    },
    {
     "ename": "KeyboardInterrupt",
     "evalue": "",
     "output_type": "error",
     "traceback": [
      "\u001b[1;31m---------------------------------------------------------------------------\u001b[0m",
      "\u001b[1;31mKeyboardInterrupt\u001b[0m                         Traceback (most recent call last)",
      "\u001b[1;32m<ipython-input-205-86a682fe1d58>\u001b[0m in \u001b[0;36m<module>\u001b[1;34m\u001b[0m\n\u001b[0;32m      6\u001b[0m \u001b[1;33m\u001b[0m\u001b[0m\n\u001b[0;32m      7\u001b[0m     \u001b[1;31m# train and test algorithm.\u001b[0m\u001b[1;33m\u001b[0m\u001b[1;33m\u001b[0m\u001b[1;33m\u001b[0m\u001b[0m\n\u001b[1;32m----> 8\u001b[1;33m     \u001b[0malgo\u001b[0m\u001b[1;33m.\u001b[0m\u001b[0mfit\u001b[0m\u001b[1;33m(\u001b[0m\u001b[0mtrainset\u001b[0m\u001b[1;33m)\u001b[0m\u001b[1;33m\u001b[0m\u001b[1;33m\u001b[0m\u001b[0m\n\u001b[0m\u001b[0;32m      9\u001b[0m \u001b[1;33m\u001b[0m\u001b[0m\n\u001b[0;32m     10\u001b[0m \u001b[1;31m#     testset = [\u001b[0m\u001b[1;33m\u001b[0m\u001b[1;33m\u001b[0m\u001b[1;33m\u001b[0m\u001b[0m\n",
      "\u001b[1;32mc:\\users\\fpsaw\\appdata\\local\\programs\\python\\python38\\lib\\site-packages\\surprise\\prediction_algorithms\\matrix_factorization.pyx\u001b[0m in \u001b[0;36msurprise.prediction_algorithms.matrix_factorization.SVD.fit\u001b[1;34m()\u001b[0m\n",
      "\u001b[1;32mc:\\users\\fpsaw\\appdata\\local\\programs\\python\\python38\\lib\\site-packages\\surprise\\prediction_algorithms\\matrix_factorization.pyx\u001b[0m in \u001b[0;36msurprise.prediction_algorithms.matrix_factorization.SVD.sgd\u001b[1;34m()\u001b[0m\n",
      "\u001b[1;32mc:\\users\\fpsaw\\appdata\\local\\programs\\python\\python38\\lib\\site-packages\\surprise\\trainset.py\u001b[0m in \u001b[0;36mall_ratings\u001b[1;34m(self)\u001b[0m\n\u001b[0;32m    187\u001b[0m         \u001b[1;32mfor\u001b[0m \u001b[0mu\u001b[0m\u001b[1;33m,\u001b[0m \u001b[0mu_ratings\u001b[0m \u001b[1;32min\u001b[0m \u001b[0miteritems\u001b[0m\u001b[1;33m(\u001b[0m\u001b[0mself\u001b[0m\u001b[1;33m.\u001b[0m\u001b[0mur\u001b[0m\u001b[1;33m)\u001b[0m\u001b[1;33m:\u001b[0m\u001b[1;33m\u001b[0m\u001b[1;33m\u001b[0m\u001b[0m\n\u001b[0;32m    188\u001b[0m             \u001b[1;32mfor\u001b[0m \u001b[0mi\u001b[0m\u001b[1;33m,\u001b[0m \u001b[0mr\u001b[0m \u001b[1;32min\u001b[0m \u001b[0mu_ratings\u001b[0m\u001b[1;33m:\u001b[0m\u001b[1;33m\u001b[0m\u001b[1;33m\u001b[0m\u001b[0m\n\u001b[1;32m--> 189\u001b[1;33m                 \u001b[1;32myield\u001b[0m \u001b[0mu\u001b[0m\u001b[1;33m,\u001b[0m \u001b[0mi\u001b[0m\u001b[1;33m,\u001b[0m \u001b[0mr\u001b[0m\u001b[1;33m\u001b[0m\u001b[1;33m\u001b[0m\u001b[0m\n\u001b[0m\u001b[0;32m    190\u001b[0m \u001b[1;33m\u001b[0m\u001b[0m\n\u001b[0;32m    191\u001b[0m     \u001b[1;32mdef\u001b[0m \u001b[0mbuild_testset\u001b[0m\u001b[1;33m(\u001b[0m\u001b[0mself\u001b[0m\u001b[1;33m)\u001b[0m\u001b[1;33m:\u001b[0m\u001b[1;33m\u001b[0m\u001b[1;33m\u001b[0m\u001b[0m\n",
      "\u001b[1;31mKeyboardInterrupt\u001b[0m: "
     ]
    }
   ],
   "source": [
    "kf = KFold(n_splits=5)\n",
    "\n",
    "algo = SVD(n_factors=300)\n",
    "\n",
    "for trainset, testset in kf.split(data):\n",
    "\n",
    "    # train and test algorithm.\n",
    "    algo.fit(trainset)\n",
    "    \n",
    "#     testset = [\n",
    "#         row for row in testset if row[2] not in [40, 25]\n",
    "#     ]\n",
    "    predictions = algo.test(testset)\n",
    "    \n",
    "    y_true = np.array([p.r_ui for p in predictions])\n",
    "    y_pred = np.array([p.est for p in predictions])\n",
    "    print(f'R2: \\t {r2_score(y_true, y_pred)}')\n",
    "\n",
    "    # Compute and print Root Mean Squared Error\n",
    "    accuracy.mae(predictions, verbose=True)\n",
    "    accuracy.rmse(predictions, verbose=True)\n",
    "    print('-----------------')"
   ]
  },
  {
   "cell_type": "code",
   "execution_count": 210,
   "id": "73794b15",
   "metadata": {},
   "outputs": [
    {
     "name": "stdout",
     "output_type": "stream",
     "text": [
      "R2: \t 0.052946284891869144\n",
      "MAE:  16.0967\n",
      "RMSE: 20.6100\n",
      "-----------------\n",
      "R2: \t 0.0437805877161872\n",
      "MAE:  16.1303\n",
      "RMSE: 20.7799\n",
      "-----------------\n",
      "R2: \t -0.03001559869194992\n",
      "MAE:  16.2614\n",
      "RMSE: 21.0863\n",
      "-----------------\n"
     ]
    },
    {
     "ename": "KeyboardInterrupt",
     "evalue": "",
     "output_type": "error",
     "traceback": [
      "\u001b[1;31m---------------------------------------------------------------------------\u001b[0m",
      "\u001b[1;31mKeyboardInterrupt\u001b[0m                         Traceback (most recent call last)",
      "\u001b[1;32m<ipython-input-210-2802b00fe1b3>\u001b[0m in \u001b[0;36m<module>\u001b[1;34m\u001b[0m\n\u001b[0;32m      5\u001b[0m \u001b[1;33m\u001b[0m\u001b[0m\n\u001b[0;32m      6\u001b[0m \u001b[1;33m\u001b[0m\u001b[0m\n\u001b[1;32m----> 7\u001b[1;33m \u001b[1;32mfor\u001b[0m \u001b[0mtrainset\u001b[0m\u001b[1;33m,\u001b[0m \u001b[0mtestset\u001b[0m \u001b[1;32min\u001b[0m \u001b[0mkf\u001b[0m\u001b[1;33m.\u001b[0m\u001b[0msplit\u001b[0m\u001b[1;33m(\u001b[0m\u001b[0mdata\u001b[0m\u001b[1;33m)\u001b[0m\u001b[1;33m:\u001b[0m\u001b[1;33m\u001b[0m\u001b[1;33m\u001b[0m\u001b[0m\n\u001b[0m\u001b[0;32m      8\u001b[0m \u001b[1;33m\u001b[0m\u001b[0m\n\u001b[0;32m      9\u001b[0m     \u001b[1;31m# train and test algorithm.\u001b[0m\u001b[1;33m\u001b[0m\u001b[1;33m\u001b[0m\u001b[1;33m\u001b[0m\u001b[0m\n",
      "\u001b[1;32mc:\\users\\fpsaw\\appdata\\local\\programs\\python\\python38\\lib\\site-packages\\surprise\\model_selection\\split.py\u001b[0m in \u001b[0;36msplit\u001b[1;34m(self, data)\u001b[0m\n\u001b[0;32m    115\u001b[0m             \u001b[0mraw_testset\u001b[0m \u001b[1;33m=\u001b[0m \u001b[1;33m[\u001b[0m\u001b[0mdata\u001b[0m\u001b[1;33m.\u001b[0m\u001b[0mraw_ratings\u001b[0m\u001b[1;33m[\u001b[0m\u001b[0mi\u001b[0m\u001b[1;33m]\u001b[0m \u001b[1;32mfor\u001b[0m \u001b[0mi\u001b[0m \u001b[1;32min\u001b[0m \u001b[0mindices\u001b[0m\u001b[1;33m[\u001b[0m\u001b[0mstart\u001b[0m\u001b[1;33m:\u001b[0m\u001b[0mstop\u001b[0m\u001b[1;33m]\u001b[0m\u001b[1;33m]\u001b[0m\u001b[1;33m\u001b[0m\u001b[1;33m\u001b[0m\u001b[0m\n\u001b[0;32m    116\u001b[0m \u001b[1;33m\u001b[0m\u001b[0m\n\u001b[1;32m--> 117\u001b[1;33m             \u001b[0mtrainset\u001b[0m \u001b[1;33m=\u001b[0m \u001b[0mdata\u001b[0m\u001b[1;33m.\u001b[0m\u001b[0mconstruct_trainset\u001b[0m\u001b[1;33m(\u001b[0m\u001b[0mraw_trainset\u001b[0m\u001b[1;33m)\u001b[0m\u001b[1;33m\u001b[0m\u001b[1;33m\u001b[0m\u001b[0m\n\u001b[0m\u001b[0;32m    118\u001b[0m             \u001b[0mtestset\u001b[0m \u001b[1;33m=\u001b[0m \u001b[0mdata\u001b[0m\u001b[1;33m.\u001b[0m\u001b[0mconstruct_testset\u001b[0m\u001b[1;33m(\u001b[0m\u001b[0mraw_testset\u001b[0m\u001b[1;33m)\u001b[0m\u001b[1;33m\u001b[0m\u001b[1;33m\u001b[0m\u001b[0m\n\u001b[0;32m    119\u001b[0m \u001b[1;33m\u001b[0m\u001b[0m\n",
      "\u001b[1;32mc:\\users\\fpsaw\\appdata\\local\\programs\\python\\python38\\lib\\site-packages\\surprise\\dataset.py\u001b[0m in \u001b[0;36mconstruct_trainset\u001b[1;34m(self, raw_trainset)\u001b[0m\n\u001b[0;32m    200\u001b[0m \u001b[1;33m\u001b[0m\u001b[0m\n\u001b[0;32m    201\u001b[0m             \u001b[0mur\u001b[0m\u001b[1;33m[\u001b[0m\u001b[0muid\u001b[0m\u001b[1;33m]\u001b[0m\u001b[1;33m.\u001b[0m\u001b[0mappend\u001b[0m\u001b[1;33m(\u001b[0m\u001b[1;33m(\u001b[0m\u001b[0miid\u001b[0m\u001b[1;33m,\u001b[0m \u001b[0mr\u001b[0m\u001b[1;33m)\u001b[0m\u001b[1;33m)\u001b[0m\u001b[1;33m\u001b[0m\u001b[1;33m\u001b[0m\u001b[0m\n\u001b[1;32m--> 202\u001b[1;33m             \u001b[0mir\u001b[0m\u001b[1;33m[\u001b[0m\u001b[0miid\u001b[0m\u001b[1;33m]\u001b[0m\u001b[1;33m.\u001b[0m\u001b[0mappend\u001b[0m\u001b[1;33m(\u001b[0m\u001b[1;33m(\u001b[0m\u001b[0muid\u001b[0m\u001b[1;33m,\u001b[0m \u001b[0mr\u001b[0m\u001b[1;33m)\u001b[0m\u001b[1;33m)\u001b[0m\u001b[1;33m\u001b[0m\u001b[1;33m\u001b[0m\u001b[0m\n\u001b[0m\u001b[0;32m    203\u001b[0m \u001b[1;33m\u001b[0m\u001b[0m\n\u001b[0;32m    204\u001b[0m         \u001b[0mn_users\u001b[0m \u001b[1;33m=\u001b[0m \u001b[0mlen\u001b[0m\u001b[1;33m(\u001b[0m\u001b[0mur\u001b[0m\u001b[1;33m)\u001b[0m  \u001b[1;31m# number of users\u001b[0m\u001b[1;33m\u001b[0m\u001b[1;33m\u001b[0m\u001b[0m\n",
      "\u001b[1;31mKeyboardInterrupt\u001b[0m: "
     ]
    }
   ],
   "source": [
    "from surprise import NMF\n",
    "\n",
    "kf = KFold(n_splits=5)\n",
    "algo = NMF(n_factors=200, lr_bi=0.001)\n",
    "\n",
    "\n",
    "for trainset, testset in kf.split(data):\n",
    "\n",
    "    # train and test algorithm.\n",
    "    algo.fit(trainset)\n",
    "\n",
    "#     testset = [\n",
    "#         row for row in testset if row[2] not in [40, 25]\n",
    "#     ]\n",
    "    predictions = algo.test(testset)\n",
    "    \n",
    "    y_true = np.array([p.r_ui for p in predictions])\n",
    "    y_pred = np.array([p.est for p in predictions])\n",
    "    print(f'R2: \\t {r2_score(y_true, y_pred)}')\n",
    "\n",
    "    # Compute and print Root Mean Squared Error\n",
    "    accuracy.mae(predictions, verbose=True)\n",
    "    accuracy.rmse(predictions, verbose=True)\n",
    "    print('-----------------')"
   ]
  },
  {
   "cell_type": "code",
   "execution_count": 211,
   "id": "dc8361f2",
   "metadata": {},
   "outputs": [
    {
     "ename": "KeyboardInterrupt",
     "evalue": "",
     "output_type": "error",
     "traceback": [
      "\u001b[1;31m---------------------------------------------------------------------------\u001b[0m",
      "\u001b[1;31mKeyboardInterrupt\u001b[0m                         Traceback (most recent call last)",
      "\u001b[1;32m<ipython-input-211-dca0f78e9a55>\u001b[0m in \u001b[0;36m<module>\u001b[1;34m\u001b[0m\n\u001b[0;32m      8\u001b[0m \u001b[1;33m\u001b[0m\u001b[0m\n\u001b[0;32m      9\u001b[0m     \u001b[1;31m# train and test algorithm.\u001b[0m\u001b[1;33m\u001b[0m\u001b[1;33m\u001b[0m\u001b[1;33m\u001b[0m\u001b[0m\n\u001b[1;32m---> 10\u001b[1;33m     \u001b[0malgo\u001b[0m\u001b[1;33m.\u001b[0m\u001b[0mfit\u001b[0m\u001b[1;33m(\u001b[0m\u001b[0mtrainset\u001b[0m\u001b[1;33m)\u001b[0m\u001b[1;33m\u001b[0m\u001b[1;33m\u001b[0m\u001b[0m\n\u001b[0m\u001b[0;32m     11\u001b[0m \u001b[1;33m\u001b[0m\u001b[0m\n\u001b[0;32m     12\u001b[0m \u001b[1;31m#     testset = [\u001b[0m\u001b[1;33m\u001b[0m\u001b[1;33m\u001b[0m\u001b[1;33m\u001b[0m\u001b[0m\n",
      "\u001b[1;32mc:\\users\\fpsaw\\appdata\\local\\programs\\python\\python38\\lib\\site-packages\\surprise\\prediction_algorithms\\matrix_factorization.pyx\u001b[0m in \u001b[0;36msurprise.prediction_algorithms.matrix_factorization.SVDpp.fit\u001b[1;34m()\u001b[0m\n",
      "\u001b[1;32mc:\\users\\fpsaw\\appdata\\local\\programs\\python\\python38\\lib\\site-packages\\surprise\\prediction_algorithms\\matrix_factorization.pyx\u001b[0m in \u001b[0;36msurprise.prediction_algorithms.matrix_factorization.SVDpp.sgd\u001b[1;34m()\u001b[0m\n",
      "\u001b[1;32mc:\\users\\fpsaw\\appdata\\local\\programs\\python\\python38\\lib\\site-packages\\surprise\\trainset.py\u001b[0m in \u001b[0;36mall_ratings\u001b[1;34m(self)\u001b[0m\n\u001b[0;32m    187\u001b[0m         \u001b[1;32mfor\u001b[0m \u001b[0mu\u001b[0m\u001b[1;33m,\u001b[0m \u001b[0mu_ratings\u001b[0m \u001b[1;32min\u001b[0m \u001b[0miteritems\u001b[0m\u001b[1;33m(\u001b[0m\u001b[0mself\u001b[0m\u001b[1;33m.\u001b[0m\u001b[0mur\u001b[0m\u001b[1;33m)\u001b[0m\u001b[1;33m:\u001b[0m\u001b[1;33m\u001b[0m\u001b[1;33m\u001b[0m\u001b[0m\n\u001b[0;32m    188\u001b[0m             \u001b[1;32mfor\u001b[0m \u001b[0mi\u001b[0m\u001b[1;33m,\u001b[0m \u001b[0mr\u001b[0m \u001b[1;32min\u001b[0m \u001b[0mu_ratings\u001b[0m\u001b[1;33m:\u001b[0m\u001b[1;33m\u001b[0m\u001b[1;33m\u001b[0m\u001b[0m\n\u001b[1;32m--> 189\u001b[1;33m                 \u001b[1;32myield\u001b[0m \u001b[0mu\u001b[0m\u001b[1;33m,\u001b[0m \u001b[0mi\u001b[0m\u001b[1;33m,\u001b[0m \u001b[0mr\u001b[0m\u001b[1;33m\u001b[0m\u001b[1;33m\u001b[0m\u001b[0m\n\u001b[0m\u001b[0;32m    190\u001b[0m \u001b[1;33m\u001b[0m\u001b[0m\n\u001b[0;32m    191\u001b[0m     \u001b[1;32mdef\u001b[0m \u001b[0mbuild_testset\u001b[0m\u001b[1;33m(\u001b[0m\u001b[0mself\u001b[0m\u001b[1;33m)\u001b[0m\u001b[1;33m:\u001b[0m\u001b[1;33m\u001b[0m\u001b[1;33m\u001b[0m\u001b[0m\n",
      "\u001b[1;31mKeyboardInterrupt\u001b[0m: "
     ]
    }
   ],
   "source": [
    "from surprise import SVDpp\n",
    "\n",
    "kf = KFold(n_splits=5)\n",
    "algo = SVDpp(n_factors=300)\n",
    "\n",
    "\n",
    "for trainset, testset in kf.split(data):\n",
    "\n",
    "    # train and test algorithm.\n",
    "    algo.fit(trainset)\n",
    "\n",
    "#     testset = [\n",
    "#         row for row in testset if row[2] not in [40, 25]\n",
    "#     ]\n",
    "    predictions = algo.test(testset)\n",
    "    \n",
    "    y_true = np.array([p.r_ui for p in predictions])\n",
    "    y_pred = np.array([p.est for p in predictions])\n",
    "    print(f'R2: \\t {r2_score(y_true, y_pred)}')\n",
    "\n",
    "    # Compute and print Root Mean Squared Error\n",
    "    accuracy.mae(predictions, verbose=True)\n",
    "    accuracy.rmse(predictions, verbose=True)\n",
    "    print('-----------------')"
   ]
  },
  {
   "cell_type": "code",
   "execution_count": 54,
   "id": "15b67fa7",
   "metadata": {},
   "outputs": [
    {
     "name": "stdout",
     "output_type": "stream",
     "text": [
      "Computing the msd similarity matrix...\n",
      "Done computing similarity matrix.\n",
      "R2: \t 0.11608603579429622\n",
      "MAE:  14.6449\n",
      "RMSE: 19.8732\n",
      "-----------------\n",
      "Computing the msd similarity matrix...\n",
      "Done computing similarity matrix.\n",
      "R2: \t 0.07721224560629425\n",
      "MAE:  14.7927\n",
      "RMSE: 20.0778\n",
      "-----------------\n",
      "Computing the msd similarity matrix...\n",
      "Done computing similarity matrix.\n",
      "R2: \t 0.11473310838679918\n",
      "MAE:  14.4588\n",
      "RMSE: 19.7199\n",
      "-----------------\n",
      "Computing the msd similarity matrix...\n",
      "Done computing similarity matrix.\n",
      "R2: \t 0.10434323132690415\n",
      "MAE:  14.6942\n",
      "RMSE: 19.9381\n",
      "-----------------\n",
      "Computing the msd similarity matrix...\n",
      "Done computing similarity matrix.\n",
      "R2: \t 0.10257377704049808\n",
      "MAE:  14.8031\n",
      "RMSE: 20.1005\n",
      "-----------------\n"
     ]
    }
   ],
   "source": [
    "from surprise import KNNWithMeans\n",
    "\n",
    "kf = KFold(n_splits=5)\n",
    "algo = KNNWithMeans(k=20)\n",
    "\n",
    "\n",
    "for trainset, testset in kf.split(data):\n",
    "\n",
    "    # train and test algorithm.\n",
    "    algo.fit(trainset)\n",
    "\n",
    "#     testset = [\n",
    "#         row for row in testset if row[2] not in [40, 25]\n",
    "#     ]\n",
    "    predictions = algo.test(testset)\n",
    "    \n",
    "    y_true = np.array([p.r_ui for p in predictions])\n",
    "    y_pred = np.array([p.est for p in predictions])\n",
    "    print(f'R2: \\t {r2_score(y_true, y_pred)}')\n",
    "\n",
    "    # Compute and print Root Mean Squared Error\n",
    "    accuracy.mae(predictions, verbose=True)\n",
    "    accuracy.rmse(predictions, verbose=True)\n",
    "    print('-----------------')"
   ]
  },
  {
   "cell_type": "code",
   "execution_count": 146,
   "id": "1ff26aa2",
   "metadata": {},
   "outputs": [
    {
     "name": "stdout",
     "output_type": "stream",
     "text": [
      "R2: \t 0.17432079462478844\n",
      "MAE:  14.1116\n",
      "RMSE: 19.0513\n",
      "-----------------\n",
      "R2: \t 0.1856352030079258\n",
      "MAE:  14.2815\n",
      "RMSE: 19.1622\n",
      "-----------------\n",
      "R2: \t 0.1531651956536373\n",
      "MAE:  14.3896\n",
      "RMSE: 19.3681\n",
      "-----------------\n",
      "R2: \t 0.13473216341888405\n",
      "MAE:  14.5303\n",
      "RMSE: 19.6045\n",
      "-----------------\n",
      "R2: \t 0.16359040225290067\n",
      "MAE:  14.2926\n",
      "RMSE: 19.1741\n",
      "-----------------\n",
      "R2: \t 0.16004615833368985\n",
      "MAE:  14.5823\n",
      "RMSE: 19.7128\n",
      "-----------------\n",
      "R2: \t 0.1563342844893566\n",
      "MAE:  14.2222\n",
      "RMSE: 18.9857\n",
      "-----------------\n",
      "R2: \t 0.1663358948599999\n",
      "MAE:  14.1269\n",
      "RMSE: 18.8906\n",
      "-----------------\n",
      "R2: \t 0.14468666054583212\n",
      "MAE:  14.5265\n",
      "RMSE: 19.6635\n",
      "-----------------\n",
      "R2: \t 0.16508932579463664\n",
      "MAE:  14.3406\n",
      "RMSE: 19.3231\n",
      "-----------------\n",
      "R2: \t 0.14148565388862266\n",
      "MAE:  14.4907\n",
      "RMSE: 19.5036\n",
      "-----------------\n",
      "R2: \t 0.1698218073578236\n",
      "MAE:  14.2141\n",
      "RMSE: 19.0112\n",
      "-----------------\n",
      "R2: \t 0.1848163323323957\n",
      "MAE:  14.2836\n",
      "RMSE: 19.0861\n",
      "-----------------\n",
      "R2: \t 0.17061731527891666\n",
      "MAE:  14.3767\n",
      "RMSE: 19.4195\n",
      "-----------------\n",
      "R2: \t 0.12711791430407393\n",
      "MAE:  14.5159\n",
      "RMSE: 19.5377\n",
      "-----------------\n",
      "R2: \t 0.13208669031578968\n",
      "MAE:  14.6327\n",
      "RMSE: 19.7472\n",
      "-----------------\n",
      "R2: \t 0.1267089203321239\n",
      "MAE:  14.2611\n",
      "RMSE: 19.2315\n",
      "-----------------\n",
      "R2: \t 0.16753248199735904\n",
      "MAE:  14.5395\n",
      "RMSE: 19.4543\n",
      "-----------------\n",
      "R2: \t 0.1457030421403308\n",
      "MAE:  14.4078\n",
      "RMSE: 19.3039\n",
      "-----------------\n",
      "R2: \t 0.171427713274372\n",
      "MAE:  14.3814\n",
      "RMSE: 19.3806\n",
      "-----------------\n",
      "R2: \t 0.17577964271949198\n",
      "MAE:  14.4170\n",
      "RMSE: 19.2342\n",
      "-----------------\n",
      "R2: \t 0.15265479239752444\n",
      "MAE:  14.3506\n",
      "RMSE: 19.1333\n",
      "-----------------\n",
      "R2: \t 0.14577623526381922\n",
      "MAE:  14.4627\n",
      "RMSE: 19.4280\n",
      "-----------------\n",
      "R2: \t 0.16305121632095443\n",
      "MAE:  14.3669\n",
      "RMSE: 19.3270\n",
      "-----------------\n",
      "R2: \t 0.1630429367992382\n",
      "MAE:  14.2877\n",
      "RMSE: 19.3663\n",
      "-----------------\n",
      "R2: \t 0.1803679962977882\n",
      "MAE:  14.4791\n",
      "RMSE: 19.6105\n",
      "-----------------\n",
      "R2: \t 0.15490608392330718\n",
      "MAE:  14.3336\n",
      "RMSE: 19.2909\n",
      "-----------------\n",
      "R2: \t 0.14745830322407716\n",
      "MAE:  14.5121\n",
      "RMSE: 19.3286\n",
      "-----------------\n"
     ]
    },
    {
     "ename": "KeyboardInterrupt",
     "evalue": "",
     "output_type": "error",
     "traceback": [
      "\u001b[1;31m---------------------------------------------------------------------------\u001b[0m",
      "\u001b[1;31mKeyboardInterrupt\u001b[0m                         Traceback (most recent call last)",
      "\u001b[1;32m<ipython-input-146-19596dff9d13>\u001b[0m in \u001b[0;36m<module>\u001b[1;34m\u001b[0m\n\u001b[0;32m      5\u001b[0m \u001b[1;33m\u001b[0m\u001b[0m\n\u001b[0;32m      6\u001b[0m \u001b[1;33m\u001b[0m\u001b[0m\n\u001b[1;32m----> 7\u001b[1;33m \u001b[1;32mfor\u001b[0m \u001b[0mtrainset\u001b[0m\u001b[1;33m,\u001b[0m \u001b[0mtestset\u001b[0m \u001b[1;32min\u001b[0m \u001b[0mkf\u001b[0m\u001b[1;33m.\u001b[0m\u001b[0msplit\u001b[0m\u001b[1;33m(\u001b[0m\u001b[0mdata\u001b[0m\u001b[1;33m)\u001b[0m\u001b[1;33m:\u001b[0m\u001b[1;33m\u001b[0m\u001b[1;33m\u001b[0m\u001b[0m\n\u001b[0m\u001b[0;32m      8\u001b[0m \u001b[1;33m\u001b[0m\u001b[0m\n\u001b[0;32m      9\u001b[0m     \u001b[1;31m# train and test algorithm.\u001b[0m\u001b[1;33m\u001b[0m\u001b[1;33m\u001b[0m\u001b[1;33m\u001b[0m\u001b[0m\n",
      "\u001b[1;32mc:\\users\\fpsaw\\appdata\\local\\programs\\python\\python38\\lib\\site-packages\\surprise\\model_selection\\split.py\u001b[0m in \u001b[0;36msplit\u001b[1;34m(self, data)\u001b[0m\n\u001b[0;32m    170\u001b[0m         \u001b[1;32mfor\u001b[0m \u001b[0m_\u001b[0m \u001b[1;32min\u001b[0m \u001b[0mrange\u001b[0m\u001b[1;33m(\u001b[0m\u001b[0mself\u001b[0m\u001b[1;33m.\u001b[0m\u001b[0mn_repeats\u001b[0m\u001b[1;33m)\u001b[0m\u001b[1;33m:\u001b[0m\u001b[1;33m\u001b[0m\u001b[1;33m\u001b[0m\u001b[0m\n\u001b[0;32m    171\u001b[0m             \u001b[0mcv\u001b[0m \u001b[1;33m=\u001b[0m \u001b[0mKFold\u001b[0m\u001b[1;33m(\u001b[0m\u001b[0mn_splits\u001b[0m\u001b[1;33m=\u001b[0m\u001b[0mself\u001b[0m\u001b[1;33m.\u001b[0m\u001b[0mn_splits\u001b[0m\u001b[1;33m,\u001b[0m \u001b[0mrandom_state\u001b[0m\u001b[1;33m=\u001b[0m\u001b[0mrng\u001b[0m\u001b[1;33m,\u001b[0m \u001b[0mshuffle\u001b[0m\u001b[1;33m=\u001b[0m\u001b[1;32mTrue\u001b[0m\u001b[1;33m)\u001b[0m\u001b[1;33m\u001b[0m\u001b[1;33m\u001b[0m\u001b[0m\n\u001b[1;32m--> 172\u001b[1;33m             \u001b[1;32mfor\u001b[0m \u001b[0mtrainset\u001b[0m\u001b[1;33m,\u001b[0m \u001b[0mtestset\u001b[0m \u001b[1;32min\u001b[0m \u001b[0mcv\u001b[0m\u001b[1;33m.\u001b[0m\u001b[0msplit\u001b[0m\u001b[1;33m(\u001b[0m\u001b[0mdata\u001b[0m\u001b[1;33m)\u001b[0m\u001b[1;33m:\u001b[0m\u001b[1;33m\u001b[0m\u001b[1;33m\u001b[0m\u001b[0m\n\u001b[0m\u001b[0;32m    173\u001b[0m                 \u001b[1;32myield\u001b[0m \u001b[0mtrainset\u001b[0m\u001b[1;33m,\u001b[0m \u001b[0mtestset\u001b[0m\u001b[1;33m\u001b[0m\u001b[1;33m\u001b[0m\u001b[0m\n\u001b[0;32m    174\u001b[0m \u001b[1;33m\u001b[0m\u001b[0m\n",
      "\u001b[1;32mc:\\users\\fpsaw\\appdata\\local\\programs\\python\\python38\\lib\\site-packages\\surprise\\model_selection\\split.py\u001b[0m in \u001b[0;36msplit\u001b[1;34m(self, data)\u001b[0m\n\u001b[0;32m    115\u001b[0m             \u001b[0mraw_testset\u001b[0m \u001b[1;33m=\u001b[0m \u001b[1;33m[\u001b[0m\u001b[0mdata\u001b[0m\u001b[1;33m.\u001b[0m\u001b[0mraw_ratings\u001b[0m\u001b[1;33m[\u001b[0m\u001b[0mi\u001b[0m\u001b[1;33m]\u001b[0m \u001b[1;32mfor\u001b[0m \u001b[0mi\u001b[0m \u001b[1;32min\u001b[0m \u001b[0mindices\u001b[0m\u001b[1;33m[\u001b[0m\u001b[0mstart\u001b[0m\u001b[1;33m:\u001b[0m\u001b[0mstop\u001b[0m\u001b[1;33m]\u001b[0m\u001b[1;33m]\u001b[0m\u001b[1;33m\u001b[0m\u001b[1;33m\u001b[0m\u001b[0m\n\u001b[0;32m    116\u001b[0m \u001b[1;33m\u001b[0m\u001b[0m\n\u001b[1;32m--> 117\u001b[1;33m             \u001b[0mtrainset\u001b[0m \u001b[1;33m=\u001b[0m \u001b[0mdata\u001b[0m\u001b[1;33m.\u001b[0m\u001b[0mconstruct_trainset\u001b[0m\u001b[1;33m(\u001b[0m\u001b[0mraw_trainset\u001b[0m\u001b[1;33m)\u001b[0m\u001b[1;33m\u001b[0m\u001b[1;33m\u001b[0m\u001b[0m\n\u001b[0m\u001b[0;32m    118\u001b[0m             \u001b[0mtestset\u001b[0m \u001b[1;33m=\u001b[0m \u001b[0mdata\u001b[0m\u001b[1;33m.\u001b[0m\u001b[0mconstruct_testset\u001b[0m\u001b[1;33m(\u001b[0m\u001b[0mraw_testset\u001b[0m\u001b[1;33m)\u001b[0m\u001b[1;33m\u001b[0m\u001b[1;33m\u001b[0m\u001b[0m\n\u001b[0;32m    119\u001b[0m \u001b[1;33m\u001b[0m\u001b[0m\n",
      "\u001b[1;32mc:\\users\\fpsaw\\appdata\\local\\programs\\python\\python38\\lib\\site-packages\\surprise\\dataset.py\u001b[0m in \u001b[0;36mconstruct_trainset\u001b[1;34m(self, raw_trainset)\u001b[0m\n\u001b[0;32m    200\u001b[0m \u001b[1;33m\u001b[0m\u001b[0m\n\u001b[0;32m    201\u001b[0m             \u001b[0mur\u001b[0m\u001b[1;33m[\u001b[0m\u001b[0muid\u001b[0m\u001b[1;33m]\u001b[0m\u001b[1;33m.\u001b[0m\u001b[0mappend\u001b[0m\u001b[1;33m(\u001b[0m\u001b[1;33m(\u001b[0m\u001b[0miid\u001b[0m\u001b[1;33m,\u001b[0m \u001b[0mr\u001b[0m\u001b[1;33m)\u001b[0m\u001b[1;33m)\u001b[0m\u001b[1;33m\u001b[0m\u001b[1;33m\u001b[0m\u001b[0m\n\u001b[1;32m--> 202\u001b[1;33m             \u001b[0mir\u001b[0m\u001b[1;33m[\u001b[0m\u001b[0miid\u001b[0m\u001b[1;33m]\u001b[0m\u001b[1;33m.\u001b[0m\u001b[0mappend\u001b[0m\u001b[1;33m(\u001b[0m\u001b[1;33m(\u001b[0m\u001b[0muid\u001b[0m\u001b[1;33m,\u001b[0m \u001b[0mr\u001b[0m\u001b[1;33m)\u001b[0m\u001b[1;33m)\u001b[0m\u001b[1;33m\u001b[0m\u001b[1;33m\u001b[0m\u001b[0m\n\u001b[0m\u001b[0;32m    203\u001b[0m \u001b[1;33m\u001b[0m\u001b[0m\n\u001b[0;32m    204\u001b[0m         \u001b[0mn_users\u001b[0m \u001b[1;33m=\u001b[0m \u001b[0mlen\u001b[0m\u001b[1;33m(\u001b[0m\u001b[0mur\u001b[0m\u001b[1;33m)\u001b[0m  \u001b[1;31m# number of users\u001b[0m\u001b[1;33m\u001b[0m\u001b[1;33m\u001b[0m\u001b[0m\n",
      "\u001b[1;31mKeyboardInterrupt\u001b[0m: "
     ]
    }
   ],
   "source": [
    "from surprise.prediction_algorithms.co_clustering import CoClustering\n",
    "\n",
    "kf = RepeatedKFold(n_splits=5, n_repeats=10)\n",
    "algo = CoClustering(n_cltr_u=5, n_cltr_i=5)\n",
    "\n",
    "\n",
    "for trainset, testset in kf.split(data):\n",
    "\n",
    "    # train and test algorithm.\n",
    "    algo.fit(trainset)\n",
    "\n",
    "#     testset = [\n",
    "#         row for row in testset if row[2] not in [40, 25]\n",
    "#     ]\n",
    "    predictions = algo.test(testset)\n",
    "    \n",
    "    y_true = np.array([p.r_ui for p in predictions])\n",
    "    y_pred = np.array([p.est for p in predictions])\n",
    "    print(f'R2: \\t {r2_score(y_true, y_pred)}')\n",
    "\n",
    "    # Compute and print Root Mean Squared Error\n",
    "    accuracy.mae(predictions, verbose=True)\n",
    "    accuracy.rmse(predictions, verbose=True)\n",
    "    print('-----------------')"
   ]
  },
  {
   "cell_type": "code",
   "execution_count": 206,
   "id": "ff0d11d7",
   "metadata": {},
   "outputs": [],
   "source": [
    "from surprise import SlopeOne, KNNWithMeans, SVD, NMF\n",
    "from sklearn.metrics import r2_score, mean_absolute_error, mean_squared_error\n",
    "from sklearn.linear_model import LinearRegression\n",
    "\n",
    "\n",
    "reader = Reader(rating_scale=(0, 100))\n",
    "data = Dataset.load_from_df(matrix, reader)\n",
    "\n",
    "def train_hybrid_model():\n",
    "    kf = RepeatedKFold(n_splits=5, n_repeats=2)\n",
    "    algos = [SlopeOne(), SVD(n_factors=300), CoClustering(n_cltr_u=10, n_cltr_i=10)]\n",
    "    combiner = LinearRegression()\n",
    "    counter = 0\n",
    "    for trainset, testset in kf.split(data):\n",
    "        counter = counter + 1\n",
    "        combined = []\n",
    "        for algo in algos:\n",
    "\n",
    "            # train and test algorithm.\n",
    "            algo.fit(trainset)\n",
    "\n",
    "#             testset = [\n",
    "#                 row for row in testset if row[2] not in [40, 25]\n",
    "#             ]\n",
    "            predictions = algo.test(testset)\n",
    "            combined.append([p.est for p in predictions])\n",
    "        y_true = np.array([p.r_ui for p in predictions])\n",
    "        if(counter == 1):\n",
    "            combiner.fit(np.array(combined).T, y_true)\n",
    "\n",
    "        #combined = np.array(combined).mean(axis=0)\n",
    "\n",
    "        y_pred = combiner.predict(np.array(combined).T)\n",
    "        print(f'R2: \\t {r2_score(y_true, y_pred)}')\n",
    "        print(f'MAE: \\t {mean_absolute_error(y_true, y_pred)}')\n",
    "        print(f'RSME: \\t {mean_squared_error(y_true, y_pred) ** (1/2)}')\n",
    "        print('-----------------')\n",
    "    return combiner"
   ]
  },
  {
   "cell_type": "code",
   "execution_count": 207,
   "id": "bcb67a30",
   "metadata": {},
   "outputs": [
    {
     "name": "stdout",
     "output_type": "stream",
     "text": [
      "R2: \t 0.2694654296828167\n",
      "MAE: \t 13.239389661210021\n",
      "RSME: \t 17.771389793388845\n",
      "-----------------\n",
      "R2: \t 0.29922764969136273\n",
      "MAE: \t 13.103172682706147\n",
      "RSME: \t 17.579869360167926\n",
      "-----------------\n",
      "R2: \t 0.3060710622196252\n",
      "MAE: \t 13.236592441643513\n",
      "RSME: \t 17.802077678183025\n",
      "-----------------\n",
      "R2: \t 0.30806458197056275\n",
      "MAE: \t 12.824877638630557\n",
      "RSME: \t 17.22140826376506\n",
      "-----------------\n",
      "R2: \t 0.3102692135185102\n",
      "MAE: \t 13.235045323291354\n",
      "RSME: \t 17.77860090469533\n",
      "-----------------\n",
      "R2: \t 0.28674739501551283\n",
      "MAE: \t 13.313401043795572\n",
      "RSME: \t 17.772270510449044\n",
      "-----------------\n",
      "R2: \t 0.30427371722069907\n",
      "MAE: \t 13.025804012861096\n",
      "RSME: \t 17.440172625988044\n",
      "-----------------\n",
      "R2: \t 0.2984834121100549\n",
      "MAE: \t 13.120208369665638\n",
      "RSME: \t 17.726836455170258\n",
      "-----------------\n",
      "R2: \t 0.30660026909079297\n",
      "MAE: \t 13.024325723939839\n",
      "RSME: \t 17.574465603815675\n",
      "-----------------\n",
      "R2: \t 0.30292340822084973\n",
      "MAE: \t 13.142877401124942\n",
      "RSME: \t 17.586766412950976\n",
      "-----------------\n"
     ]
    }
   ],
   "source": [
    "combiner = train_hybrid_model()"
   ]
  },
  {
   "cell_type": "code",
   "execution_count": 208,
   "id": "8f8d35fa",
   "metadata": {},
   "outputs": [
    {
     "data": {
      "text/plain": [
       "array([0.48502912, 0.36225073, 0.06236993])"
      ]
     },
     "execution_count": 208,
     "metadata": {},
     "output_type": "execute_result"
    }
   ],
   "source": [
    "combiner.coef_"
   ]
  },
  {
   "cell_type": "markdown",
   "id": "d8cce83b",
   "metadata": {},
   "source": [
    "### Next package"
   ]
  },
  {
   "cell_type": "code",
   "execution_count": 63,
   "id": "13182c48",
   "metadata": {},
   "outputs": [],
   "source": [
    "import implicit"
   ]
  },
  {
   "cell_type": "code",
   "execution_count": 64,
   "id": "b185c181",
   "metadata": {},
   "outputs": [
    {
     "name": "stderr",
     "output_type": "stream",
     "text": [
      "c:\\users\\fpsaw\\appdata\\local\\programs\\python\\python38\\lib\\site-packages\\implicit\\utils.py:26: UserWarning: OpenBLAS detected. Its highly recommend to set the environment variable 'export OPENBLAS_NUM_THREADS=1' to disable its internal multithreading\n",
      "  warnings.warn(\n"
     ]
    }
   ],
   "source": [
    "model = implicit.als.AlternatingLeastSquares(factors=50)"
   ]
  },
  {
   "cell_type": "code",
   "execution_count": 100,
   "id": "74897578",
   "metadata": {},
   "outputs": [],
   "source": [
    "mat = matrix.pivot_table(index='cust_id', columns='sku', values='rank')"
   ]
  },
  {
   "cell_type": "code",
   "execution_count": 101,
   "id": "7f60cbea",
   "metadata": {},
   "outputs": [],
   "source": [
    "import scipy\n",
    "\n",
    "sparse_mat = scipy.sparse.csr_matrix(mat.values)"
   ]
  },
  {
   "cell_type": "code",
   "execution_count": 102,
   "id": "86fd29fd",
   "metadata": {},
   "outputs": [
    {
     "data": {
      "text/html": [
       "<div>\n",
       "<style scoped>\n",
       "    .dataframe tbody tr th:only-of-type {\n",
       "        vertical-align: middle;\n",
       "    }\n",
       "\n",
       "    .dataframe tbody tr th {\n",
       "        vertical-align: top;\n",
       "    }\n",
       "\n",
       "    .dataframe thead th {\n",
       "        text-align: right;\n",
       "    }\n",
       "</style>\n",
       "<table border=\"1\" class=\"dataframe\">\n",
       "  <thead>\n",
       "    <tr style=\"text-align: right;\">\n",
       "      <th></th>\n",
       "      <th>sku</th>\n",
       "      <th>cust_id</th>\n",
       "      <th>rank</th>\n",
       "    </tr>\n",
       "  </thead>\n",
       "  <tbody>\n",
       "    <tr>\n",
       "      <th>0</th>\n",
       "      <td>0-15-206</td>\n",
       "      <td>00019</td>\n",
       "      <td>70</td>\n",
       "    </tr>\n",
       "    <tr>\n",
       "      <th>1</th>\n",
       "      <td>0-20-556</td>\n",
       "      <td>00019</td>\n",
       "      <td>70</td>\n",
       "    </tr>\n",
       "    <tr>\n",
       "      <th>2</th>\n",
       "      <td>0-22-500</td>\n",
       "      <td>00019</td>\n",
       "      <td>25</td>\n",
       "    </tr>\n",
       "    <tr>\n",
       "      <th>3</th>\n",
       "      <td>0-28-500</td>\n",
       "      <td>00019</td>\n",
       "      <td>40</td>\n",
       "    </tr>\n",
       "    <tr>\n",
       "      <th>4</th>\n",
       "      <td>0-28-510</td>\n",
       "      <td>00019</td>\n",
       "      <td>25</td>\n",
       "    </tr>\n",
       "    <tr>\n",
       "      <th>...</th>\n",
       "      <td>...</td>\n",
       "      <td>...</td>\n",
       "      <td>...</td>\n",
       "    </tr>\n",
       "    <tr>\n",
       "      <th>30993</th>\n",
       "      <td>KW712</td>\n",
       "      <td>998</td>\n",
       "      <td>70</td>\n",
       "    </tr>\n",
       "    <tr>\n",
       "      <th>30994</th>\n",
       "      <td>KX1650</td>\n",
       "      <td>998</td>\n",
       "      <td>70</td>\n",
       "    </tr>\n",
       "    <tr>\n",
       "      <th>30995</th>\n",
       "      <td>KX2200K</td>\n",
       "      <td>998</td>\n",
       "      <td>40</td>\n",
       "    </tr>\n",
       "    <tr>\n",
       "      <th>30996</th>\n",
       "      <td>L5.212.0091</td>\n",
       "      <td>998</td>\n",
       "      <td>25</td>\n",
       "    </tr>\n",
       "    <tr>\n",
       "      <th>30997</th>\n",
       "      <td>MT300KA</td>\n",
       "      <td>998</td>\n",
       "      <td>25</td>\n",
       "    </tr>\n",
       "  </tbody>\n",
       "</table>\n",
       "<p>30998 rows × 3 columns</p>\n",
       "</div>"
      ],
      "text/plain": [
       "               sku cust_id  rank\n",
       "0         0-15-206   00019    70\n",
       "1         0-20-556   00019    70\n",
       "2         0-22-500   00019    25\n",
       "3         0-28-500   00019    40\n",
       "4         0-28-510   00019    25\n",
       "...            ...     ...   ...\n",
       "30993        KW712     998    70\n",
       "30994       KX1650     998    70\n",
       "30995      KX2200K     998    40\n",
       "30996  L5.212.0091     998    25\n",
       "30997      MT300KA     998    25\n",
       "\n",
       "[30998 rows x 3 columns]"
      ]
     },
     "execution_count": 102,
     "metadata": {},
     "output_type": "execute_result"
    }
   ],
   "source": [
    "matrix"
   ]
  },
  {
   "cell_type": "code",
   "execution_count": 74,
   "id": "544da90a",
   "metadata": {},
   "outputs": [
    {
     "ename": "AttributeError",
     "evalue": "'DataFrame' object has no attribute 'tocsr'",
     "output_type": "error",
     "traceback": [
      "\u001b[1;31m---------------------------------------------------------------------------\u001b[0m",
      "\u001b[1;31mAttributeError\u001b[0m                            Traceback (most recent call last)",
      "\u001b[1;32m<ipython-input-74-a881cff8c6f3>\u001b[0m in \u001b[0;36m<module>\u001b[1;34m\u001b[0m\n\u001b[0;32m      7\u001b[0m \u001b[1;33m\u001b[0m\u001b[0m\n\u001b[0;32m      8\u001b[0m     \u001b[0mmodel\u001b[0m \u001b[1;33m=\u001b[0m \u001b[0mimplicit\u001b[0m\u001b[1;33m.\u001b[0m\u001b[0mals\u001b[0m\u001b[1;33m.\u001b[0m\u001b[0mAlternatingLeastSquares\u001b[0m\u001b[1;33m(\u001b[0m\u001b[0mfactors\u001b[0m\u001b[1;33m=\u001b[0m\u001b[1;36m50\u001b[0m\u001b[1;33m)\u001b[0m\u001b[1;33m\u001b[0m\u001b[1;33m\u001b[0m\u001b[0m\n\u001b[1;32m----> 9\u001b[1;33m     \u001b[0mmodel\u001b[0m\u001b[1;33m.\u001b[0m\u001b[0mfit\u001b[0m\u001b[1;33m(\u001b[0m\u001b[0mtrain\u001b[0m\u001b[1;33m)\u001b[0m\u001b[1;33m\u001b[0m\u001b[1;33m\u001b[0m\u001b[0m\n\u001b[0m\u001b[0;32m     10\u001b[0m \u001b[1;33m\u001b[0m\u001b[0m\n\u001b[0;32m     11\u001b[0m     \u001b[0mrecommendations\u001b[0m \u001b[1;33m=\u001b[0m \u001b[0mmodel\u001b[0m\u001b[1;33m.\u001b[0m\u001b[0mrecommend\u001b[0m\u001b[1;33m(\u001b[0m\u001b[0mX_test\u001b[0m\u001b[1;33m.\u001b[0m\u001b[0mcust_id\u001b[0m\u001b[1;33m,\u001b[0m \u001b[0mX_test\u001b[0m\u001b[1;33m.\u001b[0m\u001b[0msku\u001b[0m\u001b[1;33m,\u001b[0m \u001b[0mfilter_already_liked_items\u001b[0m\u001b[1;33m=\u001b[0m\u001b[1;32mFalse\u001b[0m\u001b[1;33m)\u001b[0m\u001b[1;33m\u001b[0m\u001b[1;33m\u001b[0m\u001b[0m\n",
      "\u001b[1;32mc:\\users\\fpsaw\\appdata\\local\\programs\\python\\python38\\lib\\site-packages\\implicit\\cpu\\als.py\u001b[0m in \u001b[0;36mfit\u001b[1;34m(self, user_items, show_progress)\u001b[0m\n\u001b[0;32m    126\u001b[0m             \u001b[0ms\u001b[0m \u001b[1;33m=\u001b[0m \u001b[0mtime\u001b[0m\u001b[1;33m.\u001b[0m\u001b[0mtime\u001b[0m\u001b[1;33m(\u001b[0m\u001b[1;33m)\u001b[0m\u001b[1;33m\u001b[0m\u001b[1;33m\u001b[0m\u001b[0m\n\u001b[0;32m    127\u001b[0m             \u001b[0mlog\u001b[0m\u001b[1;33m.\u001b[0m\u001b[0mdebug\u001b[0m\u001b[1;33m(\u001b[0m\u001b[1;34m\"Converting input to CSR format\"\u001b[0m\u001b[1;33m)\u001b[0m\u001b[1;33m\u001b[0m\u001b[1;33m\u001b[0m\u001b[0m\n\u001b[1;32m--> 128\u001b[1;33m             \u001b[0mCui\u001b[0m \u001b[1;33m=\u001b[0m \u001b[0mCui\u001b[0m\u001b[1;33m.\u001b[0m\u001b[0mtocsr\u001b[0m\u001b[1;33m(\u001b[0m\u001b[1;33m)\u001b[0m\u001b[1;33m\u001b[0m\u001b[1;33m\u001b[0m\u001b[0m\n\u001b[0m\u001b[0;32m    129\u001b[0m             \u001b[0mlog\u001b[0m\u001b[1;33m.\u001b[0m\u001b[0mdebug\u001b[0m\u001b[1;33m(\u001b[0m\u001b[1;34m\"Converted input to CSR in %.3fs\"\u001b[0m\u001b[1;33m,\u001b[0m \u001b[0mtime\u001b[0m\u001b[1;33m.\u001b[0m\u001b[0mtime\u001b[0m\u001b[1;33m(\u001b[0m\u001b[1;33m)\u001b[0m \u001b[1;33m-\u001b[0m \u001b[0ms\u001b[0m\u001b[1;33m)\u001b[0m\u001b[1;33m\u001b[0m\u001b[1;33m\u001b[0m\u001b[0m\n\u001b[0;32m    130\u001b[0m \u001b[1;33m\u001b[0m\u001b[0m\n",
      "\u001b[1;32mc:\\users\\fpsaw\\appdata\\local\\programs\\python\\python38\\lib\\site-packages\\pandas\\core\\generic.py\u001b[0m in \u001b[0;36m__getattr__\u001b[1;34m(self, name)\u001b[0m\n\u001b[0;32m   5463\u001b[0m             \u001b[1;32mif\u001b[0m \u001b[0mself\u001b[0m\u001b[1;33m.\u001b[0m\u001b[0m_info_axis\u001b[0m\u001b[1;33m.\u001b[0m\u001b[0m_can_hold_identifiers_and_holds_name\u001b[0m\u001b[1;33m(\u001b[0m\u001b[0mname\u001b[0m\u001b[1;33m)\u001b[0m\u001b[1;33m:\u001b[0m\u001b[1;33m\u001b[0m\u001b[1;33m\u001b[0m\u001b[0m\n\u001b[0;32m   5464\u001b[0m                 \u001b[1;32mreturn\u001b[0m \u001b[0mself\u001b[0m\u001b[1;33m[\u001b[0m\u001b[0mname\u001b[0m\u001b[1;33m]\u001b[0m\u001b[1;33m\u001b[0m\u001b[1;33m\u001b[0m\u001b[0m\n\u001b[1;32m-> 5465\u001b[1;33m             \u001b[1;32mreturn\u001b[0m \u001b[0mobject\u001b[0m\u001b[1;33m.\u001b[0m\u001b[0m__getattribute__\u001b[0m\u001b[1;33m(\u001b[0m\u001b[0mself\u001b[0m\u001b[1;33m,\u001b[0m \u001b[0mname\u001b[0m\u001b[1;33m)\u001b[0m\u001b[1;33m\u001b[0m\u001b[1;33m\u001b[0m\u001b[0m\n\u001b[0m\u001b[0;32m   5466\u001b[0m \u001b[1;33m\u001b[0m\u001b[0m\n\u001b[0;32m   5467\u001b[0m     \u001b[1;32mdef\u001b[0m \u001b[0m__setattr__\u001b[0m\u001b[1;33m(\u001b[0m\u001b[0mself\u001b[0m\u001b[1;33m,\u001b[0m \u001b[0mname\u001b[0m\u001b[1;33m:\u001b[0m \u001b[0mstr\u001b[0m\u001b[1;33m,\u001b[0m \u001b[0mvalue\u001b[0m\u001b[1;33m)\u001b[0m \u001b[1;33m->\u001b[0m \u001b[1;32mNone\u001b[0m\u001b[1;33m:\u001b[0m\u001b[1;33m\u001b[0m\u001b[1;33m\u001b[0m\u001b[0m\n",
      "\u001b[1;31mAttributeError\u001b[0m: 'DataFrame' object has no attribute 'tocsr'"
     ]
    }
   ],
   "source": [
    "from sklearn.model_selection import RepeatedKFold\n",
    "\n",
    "rkf = RepeatedKFold(n_splits=2, n_repeats=1, random_state=123)\n",
    "for train_id, test_id in rkf.split(matrix):\n",
    "    train = matrix.iloc[train_id]\n",
    "    X_test, y_test = matrix.iloc[test_id, 0:2], matrix.iloc[test_id, 2]\n",
    "    \n",
    "\n",
    "    model = implicit.als.AlternatingLeastSquares(factors=50)\n",
    "    model.fit(train)\n",
    "    \n",
    "    recommendations = model.recommend(X_test.cust_id, X_test.sku, filter_already_liked_items=False)"
   ]
  },
  {
   "cell_type": "markdown",
   "id": "15c27c6b",
   "metadata": {},
   "source": [
    "- RSME, MAE (kind of accuracy)\n",
    "- R2 and compare with NormalPredictor and RandomPredictor (to see if it's better than just mean)\n",
    "- Precision@k (Ranking Metrics)\n",
    "- Novelty, Diversity, Serendipity, Coverage (Non accuracy based metrics)"
   ]
  },
  {
   "cell_type": "code",
   "execution_count": null,
   "id": "38a14b94",
   "metadata": {},
   "outputs": [],
   "source": []
  }
 ],
 "metadata": {
  "kernelspec": {
   "display_name": "Python 3",
   "language": "python",
   "name": "python3"
  },
  "language_info": {
   "codemirror_mode": {
    "name": "ipython",
    "version": 3
   },
   "file_extension": ".py",
   "mimetype": "text/x-python",
   "name": "python",
   "nbconvert_exporter": "python",
   "pygments_lexer": "ipython3",
   "version": "3.8.9"
  }
 },
 "nbformat": 4,
 "nbformat_minor": 5
}
