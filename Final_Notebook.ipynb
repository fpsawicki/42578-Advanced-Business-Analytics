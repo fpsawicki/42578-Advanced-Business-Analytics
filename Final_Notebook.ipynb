{
 "cells": [
  {
   "cell_type": "markdown",
   "id": "d2c5122b",
   "metadata": {},
   "source": [
    "# Tailored Recommender Systems With Implicit Feedback"
   ]
  },
  {
   "cell_type": "markdown",
   "id": "5f7d1e6f",
   "metadata": {},
   "source": [
    "Authors:\n",
    "- Alexandre Muchinski (s212677)\n",
    "- Felipe Antonini Miehrig (s212676)\n",
    "- Filip Sawicki (s202563)"
   ]
  },
  {
   "cell_type": "code",
   "execution_count": 101,
   "id": "9fcbbfc6",
   "metadata": {},
   "outputs": [],
   "source": [
    "import pandas as pd\n",
    "import numpy as np\n",
    "import matplotlib.pyplot as plt\n",
    "from modules.pipeline import Pipeline\n",
    "\n",
    "from surprise import Dataset, Reader\n",
    "from surprise import SlopeOne, KNNWithMeans, KNNBaseline, SVD\n",
    "from surprise import CoClustering, BaselineOnly, NormalPredictor\n",
    "\n",
    "from sklearn.linear_model import Lasso\n",
    "from sklearn.neural_network import MLPRegressor\n",
    "from sklearn.ensemble import RandomForestRegressor, AdaBoostRegressor\n",
    "\n",
    "from sklearn.metrics import r2_score, mean_absolute_error, mean_squared_error\n",
    "from sklearn.feature_extraction.text import TfidfVectorizer, CountVectorizer\n",
    "\n",
    "from collections import defaultdict\n",
    "import warnings\n",
    "import re\n",
    "warnings.simplefilter(\"ignore\", category=RuntimeWarning)\n",
    "warnings.simplefilter(\"ignore\", category=DeprecationWarning)"
   ]
  },
  {
   "cell_type": "code",
   "execution_count": 102,
   "id": "fa84be72",
   "metadata": {},
   "outputs": [
    {
     "name": "stderr",
     "output_type": "stream",
     "text": [
      "C:\\Users\\fpsaw\\Desktop\\42578-Advanced-Business-Analytics\\modules\\loader.py:113: FutureWarning: The default value of regex will change from True to False in a future version.\n",
      "  df['username'] = df['username'].str.replace(\n"
     ]
    }
   ],
   "source": [
    "SAVE_PATH = './data/split'\n",
    "pipe = Pipeline()"
   ]
  },
  {
   "cell_type": "markdown",
   "id": "df6846ae",
   "metadata": {},
   "source": [
    "# Recommender System\n",
    "## Methodology\n",
    "### Dataset and Rating\n",
    "There are two types of possible ratings for recommender systems, those being implicit and explicit. Implicit ratings can binary target variables like 0 and 1, representing the action of buying or not buying a product. On the other hand the explicit are debilerately rated by users such as product reviews. The dataset at hand is originally implicit, because the company doesnt receive a quantitive feedbac by users. However, it was decided to come up with a pseudo-rating, which would represent how much each user $u$ likes item $i$.the following formula was used:\n",
    "$$\n",
    "    R(u,i) =\\frac{P_i \\times Q_{u,i}}{avg(B_u)}\n",
    "$$\n",
    "Where $P_i$ is the unit price of item $i$, $Q_{u,i}$ is the quantity of item $i$ purchased by user $u$, and $avg(B_u)$ is the average basket size (price paid for each purchase) for user $u$.\n",
    "\n",
    "The models used for the recommender system fall into two categories: Colaborative Filtering and Content-based\n",
    "### Colaborative Filtering\n",
    "This methods take advantage of the collaborative power of ratings by users to make recommendations. For these models the python package surprise was used. Some models like SVD, Baseline, KNNwithMeans, KNNBaseline and Coclustering were used.\n",
    "\n",
    "### Content Based\n",
    "For this kind of approach the caracteristics of each items(features) are used for recommendation. Usually the items descriptions are preprocessed using some form of text analytics and a specific model is fitted for each user. In the case at had, global regression models were fitted using vectorized versions of product descriptions and cetegories alongside user specific features:\n",
    "* User Features\n",
    "    - is_b2c: Binary feature that indicates if user is B2C or not\n",
    "    - is_it: Binary feature that indicates if user id equals payer id\n",
    "    - latitude: the north–south position of user\n",
    "    - longitude: the east-west position of user\n",
    "    - population: the number of inhabitants in the city where user is located\n",
    "* Item Features\n",
    "    - Bag of Words: Vector representation of occurances of terms in item description concatenated with item categories with n-grams from 1 to 2\n",
    "    \n",
    "For the content based models standard regressor models were fit, like Lasso, MLPRegressor and RandomForestRegressor.\n",
    "\n",
    "### Model Assesment\n",
    "When it comes to recommendation systems, assessing the models performance is not as straight forward as when assessing a standard regression model. There might be some trade-offs between some metrics and ideally, the model assesment would be conducted in an online basis with customer surveys and AB testing. With Historical data, as the one at hand, there are some metrics that are commonly used like:\n",
    "* Mean Absolute Error\n",
    "$$\n",
    "    MAE = \\frac{\\sum^u \\sum^i |e_{u,i}|}{N}\n",
    "$$\n",
    "    \n",
    "* Root Mean Squared Error\n",
    "$$\n",
    "    RMSE = \\frac{\\sum^u \\sum^i e_{u,i}^2}{N}\n",
    "$$\n",
    "* Precision at $k$\n",
    "$$\n",
    "    Precision(k) = \\frac{|S(k) \\cap G|}{|S(k)|}\n",
    "$$\n",
    "* Recall at $k$\n",
    "$$\n",
    "    Recall(k) = \\frac{|S(k) \\cap G|}{|G|}\n",
    "$$\n",
    "* F1-score at $k$\n",
    "$$\n",
    "    F1(k) = \\frac{2 \\times Precision(k) \\times Recall(k)}{Precision(k) + Recall(k)}\n",
    "$$\n",
    "\n",
    "Where $S(k)$ is the set of top $k$ items scored by the algorithm and $G$ represents the true set of relevant items (ground-truth positives)\n",
    "\n",
    "Models were tested on three datasets constructed by applying global temporal split (with a rolling window of 3 months) on all transactions data. The implementation details can be found in RecPipe notebook.\n",
    "\n",
    "### Hybrid Model\n",
    "After estimating all the individual models (Collaborative Filtering and Content Based), those were combined into a hybrid model using a simple Linear Regression in order to find the optimal linear combination of the output of each model. That being the case, weights are assigned to each model and the more accurate ones are expected to have higher coefficients. \n",
    "### Conclusion / Results\n",
    "It could be seen that all individual models performed considerably well when compared to the normal predictor. The Baseline predictor and the SVD with 300 components had good results in MAE while some content based like Lasso and Random Forest performed better on the f1-scores. \n",
    "\n",
    "However, the Hybrid model showed superior scores on on error metrics and also on F1-scores. The resulting distributions seemed to resemble more the true values. In contrast with a standard regression task, looking only at error metrics is not enough. The end goal is to have usefull predictions for the users, thus the ordering of predicted ratings of products for each user is arguibly more important then \"raw accuracy\". All in all, the ensemble(hybrid) recommender system should provide a more accurate and robust option in comparison to the individual models."
   ]
  },
  {
   "cell_type": "code",
   "execution_count": 17,
   "id": "3e9de3e4",
   "metadata": {},
   "outputs": [],
   "source": [
    "pipe.df_cust['is_b2c'] = pipe.df_cust['is_b2c'].apply(lambda x: int(x))\n",
    "pipe.df_cust['is_it'] = pipe.df_cust['id'] == pipe.df_cust['payer_id']\n",
    "pipe.df_cust['is_it'] = pipe.df_cust['is_it'].apply(lambda x: int(x))"
   ]
  },
  {
   "cell_type": "code",
   "execution_count": 18,
   "id": "90d7f656",
   "metadata": {},
   "outputs": [],
   "source": [
    "cust_features = ['id', 'is_b2c', 'is_it', 'latitude', 'longitude', 'population']"
   ]
  },
  {
   "cell_type": "code",
   "execution_count": 14,
   "id": "fe7eac6f",
   "metadata": {},
   "outputs": [],
   "source": [
    "def prepare_item_features(pipe):\n",
    "    desc_df = pipe.df_prod\n",
    "    desc_df['brand'] = desc_df['brand'].apply(lambda x: str(x))\n",
    "    desc_df['category'] = desc_df['category'].apply(lambda x: str(x))\n",
    "    desc_df['description'] = desc_df['descr'] + ' ' + desc_df['brand'] + ' ' + desc_df['category']\n",
    "    desc_df['description'] = desc_df.description.apply(lambda x: np.nan if x == '' else re.sub('\\W',' ',x.lower()))\n",
    "    vectorizer = CountVectorizer(ngram_range = (1, 2), max_df = 0.95, min_df = 0.001)\n",
    "    X = vectorizer.fit_transform(desc_df.description.values)\n",
    "    \n",
    "    names = vectorizer.get_feature_names()\n",
    "    df = pd.DataFrame.sparse.from_spmatrix(X)\n",
    "    df.columns = names\n",
    "    df.index = desc_df.sku.values\n",
    "    return df"
   ]
  },
  {
   "cell_type": "code",
   "execution_count": 19,
   "id": "80488673",
   "metadata": {},
   "outputs": [
    {
     "name": "stderr",
     "output_type": "stream",
     "text": [
      "c:\\users\\fpsaw\\appdata\\local\\programs\\python\\python38\\lib\\site-packages\\sklearn\\utils\\deprecation.py:87: FutureWarning: Function get_feature_names is deprecated; get_feature_names is deprecated in 1.0 and will be removed in 1.2. Please use get_feature_names_out instead.\n",
      "  warnings.warn(msg, category=FutureWarning)\n"
     ]
    }
   ],
   "source": [
    "df_prod = prepare_item_features(pipe)"
   ]
  },
  {
   "cell_type": "code",
   "execution_count": 21,
   "id": "b05f702f",
   "metadata": {},
   "outputs": [],
   "source": [
    "def load_dataset(i, pipe, df_prod):\n",
    "    train = pd.read_pickle(f'{SAVE_PATH}/train_{i}.pkl')[['cust_id', 'sku', 'rank']]\n",
    "    test = pd.read_pickle(f'{SAVE_PATH}/test_{i}.pkl')[['cust_id', 'sku', 'rank']]\n",
    "    train = train.merge(\n",
    "        pipe.df_cust[cust_features], how='inner', left_on='cust_id', right_on='id').dropna()\n",
    "    test = test.merge(\n",
    "        pipe.df_cust[cust_features], how='inner', left_on='cust_id', right_on='id').dropna()\n",
    "    train = train.merge(\n",
    "        df_prod, how='inner', left_on='sku', right_index=True)\n",
    "    test = test.merge(\n",
    "        df_prod, how='inner', left_on='sku', right_index=True)\n",
    "    return train, test"
   ]
  },
  {
   "cell_type": "markdown",
   "id": "61587425",
   "metadata": {},
   "source": [
    "## Testing Individual Models"
   ]
  },
  {
   "cell_type": "markdown",
   "id": "9658d245",
   "metadata": {},
   "source": [
    "Notes:\n"
   ]
  },
  {
   "cell_type": "code",
   "execution_count": 28,
   "id": "3a439d58",
   "metadata": {},
   "outputs": [],
   "source": [
    "train, test = load_dataset(0, pipe, df_prod)\n",
    "reader = Reader(rating_scale=(0, 100))"
   ]
  },
  {
   "cell_type": "code",
   "execution_count": 29,
   "id": "6fbbc6cd",
   "metadata": {},
   "outputs": [],
   "source": [
    "# train and test algorithm.\n",
    "def predict(algo, test):\n",
    "    predictions = []\n",
    "    for idx, row in test.iterrows():\n",
    "        pred = algo.predict(str(row.cust_id), str(row.sku), r_ui=row['rank'])\n",
    "        predictions.append(pred)\n",
    "    return predictions"
   ]
  },
  {
   "cell_type": "code",
   "execution_count": 30,
   "id": "6f90b0d4",
   "metadata": {},
   "outputs": [],
   "source": [
    "def precision_recall(test, preds, k):\n",
    "    users = test.cust_id.values\n",
    "    items = test.sku.values\n",
    "    rankings = test['rank'].values\n",
    "    user_dict = {}\n",
    "    for user in users:\n",
    "        user_dict[user] = {}\n",
    "    for i, user in enumerate(users):\n",
    "        user_dict[user][items[i]] = {'real': rankings[i], 'est': preds[i]} \n",
    "    scores = {}\n",
    "    for user in user_dict.keys():\n",
    "        if len(user_dict[user])>k:\n",
    "            transposed = pd.DataFrame(user_dict[user]).transpose()\n",
    "            total_items = len(transposed['real'].sort_values(ascending = False).index.values)\n",
    "            real_list = transposed['real'].sort_values(ascending = False).index.values[:k]\n",
    "            est_list = transposed['est'].sort_values(ascending = False).index.values[:k]\n",
    "            intersect = np.intersect1d(real_list, est_list)\n",
    "            precision_k = len(intersect)/k\n",
    "            recall_k = len(intersect)/total_items\n",
    "            if (precision_k*recall_k) != 0:\n",
    "                f1_k = 2*precision_k*recall_k/(precision_k+recall_k)\n",
    "            else:\n",
    "                f1_k = 0\n",
    "            scores[user] = {'precision': precision_k, \n",
    "                           'recall': recall_k,\n",
    "                           'f1_score':f1_k}\n",
    "            df = pd.DataFrame(scores).transpose()\n",
    "            df.mean()\n",
    "    return df.mean(), scores, user_dict"
   ]
  },
  {
   "cell_type": "code",
   "execution_count": 42,
   "id": "73399860",
   "metadata": {},
   "outputs": [],
   "source": [
    "def show_metrics(preds, title, is_surprise, show_plot=True):\n",
    "    if is_surprise:\n",
    "        y_true = np.array([p.r_ui for p in preds])\n",
    "        y_pred = np.array([p.est for p in preds])\n",
    "    else:\n",
    "        y_true = preds[0]\n",
    "        y_pred = preds[1]\n",
    "    res, _, _ = precision_recall(test, y_pred, k=10)\n",
    "    prec = res['precision']\n",
    "    recl = res['recall']\n",
    "    f1 = res['f1_score']\n",
    "    \n",
    "    if show_plot:\n",
    "        fig, ax = plt.subplots(nrows=1, ncols=1, sharex=True, sharey=True, figsize=(10,6))\n",
    "        ax.set_title(f'Distribution of {title}')\n",
    "        ax.hist(y_true, bins=100, label=f'true')\n",
    "        ax.hist(y_pred, bins=100, label=f'pred')\n",
    "        ax.legend(prop={'size': 12})\n",
    "    return {\n",
    "        'Model': title,\n",
    "        'R2': r2_score(y_true, y_pred),\n",
    "        'MAE': mean_absolute_error(y_true, y_pred),\n",
    "        'RSME': mean_squared_error(y_true, y_pred) ** (1/2),\n",
    "        'Precision@10': round(prec, 3),\n",
    "        'Recall@10': round(recl, 3),\n",
    "        'F1@10': round(f1, 3)\n",
    "    }"
   ]
  },
  {
   "cell_type": "code",
   "execution_count": 83,
   "id": "0887e263",
   "metadata": {},
   "outputs": [
    {
     "name": "stdout",
     "output_type": "stream",
     "text": [
      "Running: NormalPredictor\n",
      "Running: BaseLine\n",
      "Estimating biases using als...\n",
      "Running: KNNWithMeans k=20\n",
      "Computing the msd similarity matrix...\n",
      "Done computing similarity matrix.\n",
      "Running: KNNBaseline k=10\n",
      "Estimating biases using als...\n",
      "Computing the msd similarity matrix...\n",
      "Done computing similarity matrix.\n",
      "Running: CoClustering20x20\n",
      "Running: SVD5\n",
      "Running: SVD300\n",
      "Running: Lasso\n"
     ]
    },
    {
     "name": "stderr",
     "output_type": "stream",
     "text": [
      "c:\\users\\fpsaw\\appdata\\local\\programs\\python\\python38\\lib\\site-packages\\sklearn\\utils\\validation.py:624: UserWarning: pandas.DataFrame with sparse columns found.It will be converted to a dense numpy array.\n",
      "  warnings.warn(\n",
      "c:\\users\\fpsaw\\appdata\\local\\programs\\python\\python38\\lib\\site-packages\\sklearn\\utils\\validation.py:624: UserWarning: pandas.DataFrame with sparse columns found.It will be converted to a dense numpy array.\n",
      "  warnings.warn(\n"
     ]
    },
    {
     "name": "stdout",
     "output_type": "stream",
     "text": [
      "Running: RandomForest100\n"
     ]
    },
    {
     "name": "stderr",
     "output_type": "stream",
     "text": [
      "c:\\users\\fpsaw\\appdata\\local\\programs\\python\\python38\\lib\\site-packages\\sklearn\\utils\\validation.py:624: UserWarning: pandas.DataFrame with sparse columns found.It will be converted to a dense numpy array.\n",
      "  warnings.warn(\n",
      "c:\\users\\fpsaw\\appdata\\local\\programs\\python\\python38\\lib\\site-packages\\sklearn\\utils\\validation.py:624: UserWarning: pandas.DataFrame with sparse columns found.It will be converted to a dense numpy array.\n",
      "  warnings.warn(\n"
     ]
    },
    {
     "data": {
      "text/html": [
       "<div>\n",
       "<style scoped>\n",
       "    .dataframe tbody tr th:only-of-type {\n",
       "        vertical-align: middle;\n",
       "    }\n",
       "\n",
       "    .dataframe tbody tr th {\n",
       "        vertical-align: top;\n",
       "    }\n",
       "\n",
       "    .dataframe thead th {\n",
       "        text-align: right;\n",
       "    }\n",
       "</style>\n",
       "<table border=\"1\" class=\"dataframe\">\n",
       "  <thead>\n",
       "    <tr style=\"text-align: right;\">\n",
       "      <th></th>\n",
       "      <th>Model</th>\n",
       "      <th>R2</th>\n",
       "      <th>MAE</th>\n",
       "      <th>RSME</th>\n",
       "      <th>Precision@10</th>\n",
       "      <th>Recall@10</th>\n",
       "      <th>F1@10</th>\n",
       "    </tr>\n",
       "  </thead>\n",
       "  <tbody>\n",
       "    <tr>\n",
       "      <th>0</th>\n",
       "      <td>NormalPredictor</td>\n",
       "      <td>-1.296219</td>\n",
       "      <td>16.853122</td>\n",
       "      <td>22.168235</td>\n",
       "      <td>0.607</td>\n",
       "      <td>0.414</td>\n",
       "      <td>0.483</td>\n",
       "    </tr>\n",
       "    <tr>\n",
       "      <th>1</th>\n",
       "      <td>BaseLine</td>\n",
       "      <td>0.331270</td>\n",
       "      <td>8.397340</td>\n",
       "      <td>11.963273</td>\n",
       "      <td>0.813</td>\n",
       "      <td>0.518</td>\n",
       "      <td>0.617</td>\n",
       "    </tr>\n",
       "    <tr>\n",
       "      <th>2</th>\n",
       "      <td>KNNWithMeans k=20</td>\n",
       "      <td>0.057070</td>\n",
       "      <td>9.477477</td>\n",
       "      <td>14.205747</td>\n",
       "      <td>0.761</td>\n",
       "      <td>0.484</td>\n",
       "      <td>0.577</td>\n",
       "    </tr>\n",
       "    <tr>\n",
       "      <th>3</th>\n",
       "      <td>KNNBaseline k=10</td>\n",
       "      <td>0.181229</td>\n",
       "      <td>8.565956</td>\n",
       "      <td>13.237490</td>\n",
       "      <td>0.790</td>\n",
       "      <td>0.505</td>\n",
       "      <td>0.601</td>\n",
       "    </tr>\n",
       "    <tr>\n",
       "      <th>4</th>\n",
       "      <td>CoClustering20x20</td>\n",
       "      <td>-0.297898</td>\n",
       "      <td>10.099990</td>\n",
       "      <td>16.666510</td>\n",
       "      <td>0.752</td>\n",
       "      <td>0.488</td>\n",
       "      <td>0.579</td>\n",
       "    </tr>\n",
       "    <tr>\n",
       "      <th>5</th>\n",
       "      <td>SVD5</td>\n",
       "      <td>-0.153361</td>\n",
       "      <td>9.712022</td>\n",
       "      <td>15.711120</td>\n",
       "      <td>0.762</td>\n",
       "      <td>0.494</td>\n",
       "      <td>0.586</td>\n",
       "    </tr>\n",
       "    <tr>\n",
       "      <th>6</th>\n",
       "      <td>SVD300</td>\n",
       "      <td>0.260925</td>\n",
       "      <td>8.284428</td>\n",
       "      <td>12.576762</td>\n",
       "      <td>0.774</td>\n",
       "      <td>0.503</td>\n",
       "      <td>0.596</td>\n",
       "    </tr>\n",
       "    <tr>\n",
       "      <th>7</th>\n",
       "      <td>Lasso</td>\n",
       "      <td>0.321975</td>\n",
       "      <td>9.186287</td>\n",
       "      <td>12.046126</td>\n",
       "      <td>0.810</td>\n",
       "      <td>0.514</td>\n",
       "      <td>0.612</td>\n",
       "    </tr>\n",
       "    <tr>\n",
       "      <th>8</th>\n",
       "      <td>RandomForest100</td>\n",
       "      <td>0.169702</td>\n",
       "      <td>8.452208</td>\n",
       "      <td>13.330344</td>\n",
       "      <td>0.798</td>\n",
       "      <td>0.508</td>\n",
       "      <td>0.605</td>\n",
       "    </tr>\n",
       "  </tbody>\n",
       "</table>\n",
       "</div>"
      ],
      "text/plain": [
       "               Model        R2        MAE       RSME  Precision@10  Recall@10  \\\n",
       "0    NormalPredictor -1.296219  16.853122  22.168235         0.607      0.414   \n",
       "1           BaseLine  0.331270   8.397340  11.963273         0.813      0.518   \n",
       "2  KNNWithMeans k=20  0.057070   9.477477  14.205747         0.761      0.484   \n",
       "3   KNNBaseline k=10  0.181229   8.565956  13.237490         0.790      0.505   \n",
       "4  CoClustering20x20 -0.297898  10.099990  16.666510         0.752      0.488   \n",
       "5               SVD5 -0.153361   9.712022  15.711120         0.762      0.494   \n",
       "6             SVD300  0.260925   8.284428  12.576762         0.774      0.503   \n",
       "7              Lasso  0.321975   9.186287  12.046126         0.810      0.514   \n",
       "8    RandomForest100  0.169702   8.452208  13.330344         0.798      0.508   \n",
       "\n",
       "   F1@10  \n",
       "0  0.483  \n",
       "1  0.617  \n",
       "2  0.577  \n",
       "3  0.601  \n",
       "4  0.579  \n",
       "5  0.586  \n",
       "6  0.596  \n",
       "7  0.612  \n",
       "8  0.605  "
      ]
     },
     "metadata": {},
     "output_type": "display_data"
    },
    {
     "data": {
      "image/png": "[encoded data removed]",
      "text/plain": [
       "<Figure size 720x432 with 1 Axes>"
      ]
     },
     "metadata": {
      "needs_background": "light"
     },
     "output_type": "display_data"
    },
    {
     "data": {
      "image/png": "[encoded data removed]",
      "text/plain": [
       "<Figure size 720x432 with 1 Axes>"
      ]
     },
     "metadata": {
      "needs_background": "light"
     },
     "output_type": "display_data"
    },
    {
     "data": {
      "image/png": "[encoded data removed]",
      "text/plain": [
       "<Figure size 720x432 with 1 Axes>"
      ]
     },
     "metadata": {
      "needs_background": "light"
     },
     "output_type": "display_data"
    },
    {
     "data": {
      "image/png": "[encoded data removed]",
      "text/plain": [
       "<Figure size 720x432 with 1 Axes>"
      ]
     },
     "metadata": {
      "needs_background": "light"
     },
     "output_type": "display_data"
    },
    {
     "data": {
      "image/png": "[encoded data removed]",
      "text/plain": [
       "<Figure size 720x432 with 1 Axes>"
      ]
     },
     "metadata": {
      "needs_background": "light"
     },
     "output_type": "display_data"
    },
    {
     "data": {
      "image/png": "[encoded data removed]",
      "text/plain": [
       "<Figure size 720x432 with 1 Axes>"
      ]
     },
     "metadata": {
      "needs_background": "light"
     },
     "output_type": "display_data"
    },
    {
     "data": {
      "image/png": "[encoded data removed]",
      "text/plain": [
       "<Figure size 720x432 with 1 Axes>"
      ]
     },
     "metadata": {
      "needs_background": "light"
     },
     "output_type": "display_data"
    },
    {
     "data": {
      "image/png": "[encoded data removed]",
      "text/plain": [
       "<Figure size 720x432 with 1 Axes>"
      ]
     },
     "metadata": {
      "needs_background": "light"
     },
     "output_type": "display_data"
    },
    {
     "data": {
      "image/png": "[encoded data removed]",
      "text/plain": [
       "<Figure size 720x432 with 1 Axes>"
      ]
     },
     "metadata": {
      "needs_background": "light"
     },
     "output_type": "display_data"
    }
   ],
   "source": [
    "algos = [\n",
    "         (NormalPredictor(), 'NormalPredictor', True),\n",
    "         (BaselineOnly(), 'BaseLine', True),\n",
    "         (KNNWithMeans(k=20), 'KNNWithMeans k=20', True),\n",
    "         (KNNBaseline(k=10), 'KNNBaseline k=10', True),\n",
    "         (CoClustering(n_cltr_u=20, n_cltr_i=20), 'CoClustering20x20', True),\n",
    "         (SVD(n_factors=5), 'SVD5', True),\n",
    "         (SVD(n_factors=300), 'SVD300', True),\n",
    "         (Lasso(alpha=0.01), 'Lasso', False),\n",
    "#          (MLPRegressor(hidden_layer_sizes=(50, 50)), 'MLP50x50', False),\n",
    "#          (RandomForestRegressor(n_estimators=50, n_jobs=-1), 'RandomForest50', False),\n",
    "         (RandomForestRegressor(n_estimators=100, n_jobs=-1), 'RandomForest100', False),\n",
    "#          (RandomForestRegressor(n_estimators=200, n_jobs=-1), 'RandomForest200', False),\n",
    "#          (RandomForestRegressor(n_estimators=300, n_jobs=-1), 'RandomForest300', False),\n",
    "#          (AdaBoostRegressor(n_estimators=100), 'AdaBoost', False)\n",
    "        ]\n",
    "\n",
    "results = []\n",
    "for algo, name, is_surprise in algos:\n",
    "    print(f'Running: {name}')\n",
    "    if is_surprise:\n",
    "        data = Dataset.load_from_df(\n",
    "            train[['cust_id', 'sku', 'rank']], reader\n",
    "        )\n",
    "        trainset = data.build_full_trainset()\n",
    "        algo.fit(trainset)\n",
    "        preds = predict(algo, test[['cust_id', 'sku', 'rank']])\n",
    "        result = show_metrics(preds, name, is_surprise)\n",
    "        results.append(result)\n",
    "    else:\n",
    "        X_trains = train.drop(['sku', 'cust_id', 'id', 'rank'], axis=1)\n",
    "        X_tests = test.drop(['sku', 'cust_id', 'id', 'rank'], axis=1)\n",
    "        y_trains = train['rank']\n",
    "        y_tests = test['rank']\n",
    "        algo.fit(X_trains, y_trains)\n",
    "        preds = algo.predict(X_tests)\n",
    "#         preds = np.clip(preds, 0, 100000)\n",
    "        result = show_metrics([y_tests, preds], name, is_surprise)\n",
    "        results.append(result)\n",
    "\n",
    "display(pd.DataFrame(results))"
   ]
  },
  {
   "cell_type": "markdown",
   "id": "4a675ee4",
   "metadata": {},
   "source": [
    "## Running Hybrid Model"
   ]
  },
  {
   "cell_type": "code",
   "execution_count": 84,
   "id": "4753861e",
   "metadata": {},
   "outputs": [],
   "source": [
    "def show_metrics_comb(y_true, y_pred, test, title):\n",
    "#     precisions, recalls = precision_recall_at_k(preds)\n",
    "#     prec = round(sum(prec for prec in precisions.values()) / len(precisions), 3)\n",
    "#     recl = round(sum(rec for rec in recalls.values()) / len(recalls), 3)\n",
    "    res, _, _ = precision_recall(test, y_pred, k=10)\n",
    "    prec = res['precision']\n",
    "    recl = res['recall']\n",
    "    f1 = res['f1_score']\n",
    "    \n",
    "    fig, ax = plt.subplots(nrows=1, ncols=1, sharex=True, sharey=True, figsize=(10,6))\n",
    "    ax.set_title(f'Distribution of Hybrid Model')\n",
    "    ax.hist(y_true, bins=100, label=f'true')\n",
    "    ax.hist(y_pred, bins=100, label=f'pred')\n",
    "    ax.legend(prop={'size': 12})\n",
    "    return {\n",
    "        'Model': title,\n",
    "        'R2': r2_score(y_true, y_pred),\n",
    "        'MAE': mean_absolute_error(y_true, y_pred),\n",
    "        'RSME': mean_squared_error(y_true, y_pred) ** (1/2),\n",
    "        'Precision@10': round(prec, 3),\n",
    "        'Recall@10': round(recl, 3),\n",
    "        'F1@10': round(f1, 3)\n",
    "    }"
   ]
  },
  {
   "cell_type": "code",
   "execution_count": 87,
   "id": "ff0d11d7",
   "metadata": {},
   "outputs": [],
   "source": [
    "from sklearn.linear_model import LinearRegression\n",
    "\n",
    "def train_hybrid_model():\n",
    "    algos = [\n",
    "         (BaselineOnly(), 'BaseLine', True),\n",
    "         (KNNWithMeans(k=20), 'KNNWithMeans k=20', True),\n",
    "         (KNNBaseline(k=10), 'KNNBaseline k=10', True),\n",
    "         (CoClustering(n_cltr_u=20, n_cltr_i=20), 'CoClustering20x20', True),\n",
    "         (SVD(n_factors=5), 'SVD5', True),\n",
    "         (SVD(n_factors=300), 'SVD300', True),\n",
    "         (Lasso(alpha=0.01), 'Lasso', False),\n",
    "         (MLPRegressor(hidden_layer_sizes=(50, 50)), 'MLP50x50', False),\n",
    "#          (RandomForestRegressor(n_estimators=50, n_jobs=-1), 'RandomForest50', False),\n",
    "         (RandomForestRegressor(n_estimators=100, n_jobs=-1), 'RandomForest100', False),\n",
    "#          (RandomForestRegressor(n_estimators=200, n_jobs=-1), 'RandomForest200', False),\n",
    "#          (RandomForestRegressor(n_estimators=300, n_jobs=-1), 'RandomForest300', False),\n",
    "#          (AdaBoostRegressor(n_estimators=100), 'AdaBoost', False)\n",
    "        ]\n",
    "    results = []\n",
    "    combiner = LinearRegression(fit_intercept=True)\n",
    "\n",
    "    for i in range(3):\n",
    "        print(f'Dataset: #{i}')\n",
    "        train, test = load_dataset(i, pipe, df_prod)\n",
    "        \n",
    "        combined = []\n",
    "        for algo, name, is_surprise in algos:\n",
    "            print(f'Running: {name}')\n",
    "            if is_surprise:\n",
    "                data = Dataset.load_from_df(\n",
    "                    train[['cust_id', 'sku', 'rank']], reader\n",
    "                )\n",
    "                trainset = data.build_full_trainset()\n",
    "                algo.fit(trainset)\n",
    "                preds = predict(algo, test[['cust_id', 'sku', 'rank']])\n",
    "                combined.append([p.est for p in preds])\n",
    "            else:\n",
    "                X_trains = train.drop(['sku', 'cust_id', 'id', 'rank'], axis=1)\n",
    "                X_tests = test.drop(['sku', 'cust_id', 'id', 'rank'], axis=1)\n",
    "                y_trains = train['rank']\n",
    "                y_tests = test['rank']\n",
    "                algo.fit(X_trains, y_trains)\n",
    "                preds = algo.predict(X_tests)\n",
    "#                 preds = np.clip(preds, 0, 100000)\n",
    "                combined.append(preds)\n",
    "\n",
    "        if(i == 0):\n",
    "            combiner.fit(np.array(combined).T, test['rank'].values)\n",
    "        y_pred = combiner.predict(np.array(combined).T)\n",
    "#         y_pred = np.clip(preds, 0, 100000)\n",
    "        result = show_metrics_comb(test['rank'].values, y_pred, test, i)\n",
    "        results.append(result)\n",
    "    return combiner, pd.DataFrame(results)"
   ]
  },
  {
   "cell_type": "code",
   "execution_count": 88,
   "id": "bcb67a30",
   "metadata": {
    "scrolled": false
   },
   "outputs": [
    {
     "name": "stdout",
     "output_type": "stream",
     "text": [
      "Dataset: #0\n",
      "Running: BaseLine\n",
      "Estimating biases using als...\n",
      "Running: KNNWithMeans k=20\n",
      "Computing the msd similarity matrix...\n",
      "Done computing similarity matrix.\n",
      "Running: KNNBaseline k=10\n",
      "Estimating biases using als...\n",
      "Computing the msd similarity matrix...\n",
      "Done computing similarity matrix.\n",
      "Running: CoClustering20x20\n",
      "Running: SVD5\n",
      "Running: SVD300\n",
      "Running: Lasso\n"
     ]
    },
    {
     "name": "stderr",
     "output_type": "stream",
     "text": [
      "c:\\users\\fpsaw\\appdata\\local\\programs\\python\\python38\\lib\\site-packages\\sklearn\\utils\\validation.py:624: UserWarning: pandas.DataFrame with sparse columns found.It will be converted to a dense numpy array.\n",
      "  warnings.warn(\n",
      "c:\\users\\fpsaw\\appdata\\local\\programs\\python\\python38\\lib\\site-packages\\sklearn\\utils\\validation.py:624: UserWarning: pandas.DataFrame with sparse columns found.It will be converted to a dense numpy array.\n",
      "  warnings.warn(\n",
      "c:\\users\\fpsaw\\appdata\\local\\programs\\python\\python38\\lib\\site-packages\\sklearn\\utils\\validation.py:624: UserWarning: pandas.DataFrame with sparse columns found.It will be converted to a dense numpy array.\n",
      "  warnings.warn(\n"
     ]
    },
    {
     "name": "stdout",
     "output_type": "stream",
     "text": [
      "Running: MLP50x50\n"
     ]
    },
    {
     "name": "stderr",
     "output_type": "stream",
     "text": [
      "c:\\users\\fpsaw\\appdata\\local\\programs\\python\\python38\\lib\\site-packages\\sklearn\\utils\\validation.py:624: UserWarning: pandas.DataFrame with sparse columns found.It will be converted to a dense numpy array.\n",
      "  warnings.warn(\n",
      "c:\\users\\fpsaw\\appdata\\local\\programs\\python\\python38\\lib\\site-packages\\sklearn\\utils\\validation.py:624: UserWarning: pandas.DataFrame with sparse columns found.It will be converted to a dense numpy array.\n",
      "  warnings.warn(\n"
     ]
    },
    {
     "name": "stdout",
     "output_type": "stream",
     "text": [
      "Running: RandomForest100\n"
     ]
    },
    {
     "name": "stderr",
     "output_type": "stream",
     "text": [
      "c:\\users\\fpsaw\\appdata\\local\\programs\\python\\python38\\lib\\site-packages\\sklearn\\utils\\validation.py:624: UserWarning: pandas.DataFrame with sparse columns found.It will be converted to a dense numpy array.\n",
      "  warnings.warn(\n"
     ]
    },
    {
     "name": "stdout",
     "output_type": "stream",
     "text": [
      "Dataset: #1\n",
      "Running: BaseLine\n",
      "Estimating biases using als...\n",
      "Running: KNNWithMeans k=20\n",
      "Computing the msd similarity matrix...\n",
      "Done computing similarity matrix.\n",
      "Running: KNNBaseline k=10\n",
      "Estimating biases using als...\n",
      "Computing the msd similarity matrix...\n",
      "Done computing similarity matrix.\n",
      "Running: CoClustering20x20\n",
      "Running: SVD5\n",
      "Running: SVD300\n",
      "Running: Lasso\n"
     ]
    },
    {
     "name": "stderr",
     "output_type": "stream",
     "text": [
      "c:\\users\\fpsaw\\appdata\\local\\programs\\python\\python38\\lib\\site-packages\\sklearn\\utils\\validation.py:624: UserWarning: pandas.DataFrame with sparse columns found.It will be converted to a dense numpy array.\n",
      "  warnings.warn(\n",
      "c:\\users\\fpsaw\\appdata\\local\\programs\\python\\python38\\lib\\site-packages\\sklearn\\utils\\validation.py:624: UserWarning: pandas.DataFrame with sparse columns found.It will be converted to a dense numpy array.\n",
      "  warnings.warn(\n",
      "c:\\users\\fpsaw\\appdata\\local\\programs\\python\\python38\\lib\\site-packages\\sklearn\\utils\\validation.py:624: UserWarning: pandas.DataFrame with sparse columns found.It will be converted to a dense numpy array.\n",
      "  warnings.warn(\n"
     ]
    },
    {
     "name": "stdout",
     "output_type": "stream",
     "text": [
      "Running: MLP50x50\n"
     ]
    },
    {
     "name": "stderr",
     "output_type": "stream",
     "text": [
      "c:\\users\\fpsaw\\appdata\\local\\programs\\python\\python38\\lib\\site-packages\\sklearn\\utils\\validation.py:624: UserWarning: pandas.DataFrame with sparse columns found.It will be converted to a dense numpy array.\n",
      "  warnings.warn(\n",
      "c:\\users\\fpsaw\\appdata\\local\\programs\\python\\python38\\lib\\site-packages\\sklearn\\utils\\validation.py:624: UserWarning: pandas.DataFrame with sparse columns found.It will be converted to a dense numpy array.\n",
      "  warnings.warn(\n"
     ]
    },
    {
     "name": "stdout",
     "output_type": "stream",
     "text": [
      "Running: RandomForest100\n"
     ]
    },
    {
     "name": "stderr",
     "output_type": "stream",
     "text": [
      "c:\\users\\fpsaw\\appdata\\local\\programs\\python\\python38\\lib\\site-packages\\sklearn\\utils\\validation.py:624: UserWarning: pandas.DataFrame with sparse columns found.It will be converted to a dense numpy array.\n",
      "  warnings.warn(\n"
     ]
    },
    {
     "name": "stdout",
     "output_type": "stream",
     "text": [
      "Dataset: #2\n",
      "Running: BaseLine\n",
      "Estimating biases using als...\n",
      "Running: KNNWithMeans k=20\n",
      "Computing the msd similarity matrix...\n",
      "Done computing similarity matrix.\n",
      "Running: KNNBaseline k=10\n",
      "Estimating biases using als...\n",
      "Computing the msd similarity matrix...\n",
      "Done computing similarity matrix.\n",
      "Running: CoClustering20x20\n",
      "Running: SVD5\n",
      "Running: SVD300\n",
      "Running: Lasso\n"
     ]
    },
    {
     "name": "stderr",
     "output_type": "stream",
     "text": [
      "c:\\users\\fpsaw\\appdata\\local\\programs\\python\\python38\\lib\\site-packages\\sklearn\\utils\\validation.py:624: UserWarning: pandas.DataFrame with sparse columns found.It will be converted to a dense numpy array.\n",
      "  warnings.warn(\n",
      "c:\\users\\fpsaw\\appdata\\local\\programs\\python\\python38\\lib\\site-packages\\sklearn\\utils\\validation.py:624: UserWarning: pandas.DataFrame with sparse columns found.It will be converted to a dense numpy array.\n",
      "  warnings.warn(\n",
      "c:\\users\\fpsaw\\appdata\\local\\programs\\python\\python38\\lib\\site-packages\\sklearn\\utils\\validation.py:624: UserWarning: pandas.DataFrame with sparse columns found.It will be converted to a dense numpy array.\n",
      "  warnings.warn(\n"
     ]
    },
    {
     "name": "stdout",
     "output_type": "stream",
     "text": [
      "Running: MLP50x50\n"
     ]
    },
    {
     "name": "stderr",
     "output_type": "stream",
     "text": [
      "c:\\users\\fpsaw\\appdata\\local\\programs\\python\\python38\\lib\\site-packages\\sklearn\\utils\\validation.py:624: UserWarning: pandas.DataFrame with sparse columns found.It will be converted to a dense numpy array.\n",
      "  warnings.warn(\n",
      "c:\\users\\fpsaw\\appdata\\local\\programs\\python\\python38\\lib\\site-packages\\sklearn\\utils\\validation.py:624: UserWarning: pandas.DataFrame with sparse columns found.It will be converted to a dense numpy array.\n",
      "  warnings.warn(\n"
     ]
    },
    {
     "name": "stdout",
     "output_type": "stream",
     "text": [
      "Running: RandomForest100\n"
     ]
    },
    {
     "name": "stderr",
     "output_type": "stream",
     "text": [
      "c:\\users\\fpsaw\\appdata\\local\\programs\\python\\python38\\lib\\site-packages\\sklearn\\utils\\validation.py:624: UserWarning: pandas.DataFrame with sparse columns found.It will be converted to a dense numpy array.\n",
      "  warnings.warn(\n"
     ]
    },
    {
     "data": {
      "image/png": "[encoded data removed]",
      "text/plain": [
       "<Figure size 720x432 with 1 Axes>"
      ]
     },
     "metadata": {
      "needs_background": "light"
     },
     "output_type": "display_data"
    },
    {
     "data": {
      "image/png": "[encoded data removed]",
      "text/plain": [
       "<Figure size 720x432 with 1 Axes>"
      ]
     },
     "metadata": {
      "needs_background": "light"
     },
     "output_type": "display_data"
    },
    {
     "data": {
      "image/png": "[encoded data removed]",
      "text/plain": [
       "<Figure size 720x432 with 1 Axes>"
      ]
     },
     "metadata": {
      "needs_background": "light"
     },
     "output_type": "display_data"
    }
   ],
   "source": [
    "combiner, results = train_hybrid_model()"
   ]
  },
  {
   "cell_type": "code",
   "execution_count": 89,
   "id": "8f8d35fa",
   "metadata": {},
   "outputs": [
    {
     "data": {
      "text/plain": [
       "array([ 0.15763402, -0.23332451,  0.26308239,  0.01637258,  0.1523947 ,\n",
       "        0.01909311,  0.33436155,  0.00566642,  0.20423452])"
      ]
     },
     "execution_count": 89,
     "metadata": {},
     "output_type": "execute_result"
    }
   ],
   "source": [
    "combiner.coef_"
   ]
  },
  {
   "cell_type": "code",
   "execution_count": 90,
   "id": "47bbe1bf",
   "metadata": {},
   "outputs": [
    {
     "data": {
      "text/plain": [
       "Model            1.000000\n",
       "R2               0.500598\n",
       "MAE              6.652290\n",
       "RSME            10.662143\n",
       "Precision@10     0.818667\n",
       "Recall@10        0.504000\n",
       "F1@10            0.605667\n",
       "dtype: float64"
      ]
     },
     "metadata": {},
     "output_type": "display_data"
    }
   ],
   "source": [
    "display(results.mean(axis=0))"
   ]
  },
  {
   "cell_type": "code",
   "execution_count": 91,
   "id": "22ccefa2",
   "metadata": {},
   "outputs": [
    {
     "data": {
      "text/html": [
       "<div>\n",
       "<style scoped>\n",
       "    .dataframe tbody tr th:only-of-type {\n",
       "        vertical-align: middle;\n",
       "    }\n",
       "\n",
       "    .dataframe tbody tr th {\n",
       "        vertical-align: top;\n",
       "    }\n",
       "\n",
       "    .dataframe thead th {\n",
       "        text-align: right;\n",
       "    }\n",
       "</style>\n",
       "<table border=\"1\" class=\"dataframe\">\n",
       "  <thead>\n",
       "    <tr style=\"text-align: right;\">\n",
       "      <th></th>\n",
       "      <th>Model</th>\n",
       "      <th>R2</th>\n",
       "      <th>MAE</th>\n",
       "      <th>RSME</th>\n",
       "      <th>Precision@10</th>\n",
       "      <th>Recall@10</th>\n",
       "      <th>F1@10</th>\n",
       "    </tr>\n",
       "  </thead>\n",
       "  <tbody>\n",
       "    <tr>\n",
       "      <th>0</th>\n",
       "      <td>0</td>\n",
       "      <td>0.489220</td>\n",
       "      <td>6.622450</td>\n",
       "      <td>10.455418</td>\n",
       "      <td>0.816</td>\n",
       "      <td>0.522</td>\n",
       "      <td>0.621</td>\n",
       "    </tr>\n",
       "    <tr>\n",
       "      <th>1</th>\n",
       "      <td>1</td>\n",
       "      <td>0.461347</td>\n",
       "      <td>6.616335</td>\n",
       "      <td>11.152093</td>\n",
       "      <td>0.822</td>\n",
       "      <td>0.483</td>\n",
       "      <td>0.590</td>\n",
       "    </tr>\n",
       "    <tr>\n",
       "      <th>2</th>\n",
       "      <td>2</td>\n",
       "      <td>0.551226</td>\n",
       "      <td>6.718085</td>\n",
       "      <td>10.378917</td>\n",
       "      <td>0.818</td>\n",
       "      <td>0.507</td>\n",
       "      <td>0.606</td>\n",
       "    </tr>\n",
       "  </tbody>\n",
       "</table>\n",
       "</div>"
      ],
      "text/plain": [
       "   Model        R2       MAE       RSME  Precision@10  Recall@10  F1@10\n",
       "0      0  0.489220  6.622450  10.455418         0.816      0.522  0.621\n",
       "1      1  0.461347  6.616335  11.152093         0.822      0.483  0.590\n",
       "2      2  0.551226  6.718085  10.378917         0.818      0.507  0.606"
      ]
     },
     "metadata": {},
     "output_type": "display_data"
    }
   ],
   "source": [
    "display(results)"
   ]
  },
  {
   "cell_type": "markdown",
   "id": "8e5eb88c",
   "metadata": {},
   "source": [
    "## Association Rules"
   ]
  },
  {
   "cell_type": "markdown",
   "id": "4f15a2f1",
   "metadata": {},
   "source": [
    "## Methodology\n",
    "\n",
    "### Reason\n",
    "In addition to personal recommendations the company would like to get sets of products that are commonly bought together. This would be used both to create better promotional campaigns as well as increase cross-selling through integration with their order management system.\n",
    "\n",
    "Market basked analysis is a type of machine learning methodology to look for correlations and associations between intensities and a transaction. With a large amount of data generated, especially in the retail sector, this type of analysis brings great value in understanding consumer behavior and identifying patterns for business optimization.\n",
    "\n",
    "As our data is generated by a company in the retail industry, with a large volume of products being negotiated, we thought about using this methodology to implement in the company's interface.\n",
    "\n",
    "Association rules is a common task in frequent pattern mining. The metrics we are using are provided in the mlxtend package.\n",
    "\n",
    "\n",
    "\n",
    "### Models\n",
    "To receive sets of commonly bought products we mine association rules from the database of sales transactions. \n",
    "\n",
    "### Metrics\n",
    "**Support** - This metric is used to understand the abundance or frequency of an item in the database.  $$P(X \\cap Y)$$ \n",
    "\n",
    "**Confidence** - It is a metric that shows how often the rule occurs that an item is bought together with another one. Generally the results of pairs of items are different. $$\\frac{support(X \\cap Y)}{support(X)}$$\n",
    "\n",
    "**Lift** - This is a metric that measures the probability of having item Y in the basket given the knowledge that item X is present versus the probability of having item Y in the basket without knowing about the presence of item X. If item X knows that Y is in the basket, the value of lift is more than 1. In contrast, if the value is less than 1, it shows that having item X in the basket does not increase the chance of having item Y in the basket.. $$ \\frac{support(X \\cap Y)}{support(X) \\times support(Y)}$$\n",
    "\n",
    "In order to give a proper recommendation, we decided to use the category provided by the company instead of just the SKU, the main reason being that SKU based associations in this type of business (building materials) can be misleading, since for example many similar products with different codes, thus raising the confidence numbers disproportionately.\n",
    "\n",
    "Thus, we ended up using product category, something not initially saved by the company database. In meetings with the management team, it was provided for us a list of the best selling SKUs with their respective categories. Performing an initial database cleanup to load the market basket analysis (Products available, quantity > 0 and category not null), we reached 72% of the products sold categorized.\n"
   ]
  },
  {
   "cell_type": "code",
   "execution_count": 104,
   "id": "0305c3d0",
   "metadata": {},
   "outputs": [],
   "source": [
    "from mlxtend.frequent_patterns import fpgrowth\n",
    "from mlxtend.frequent_patterns import association_rules"
   ]
  },
  {
   "cell_type": "code",
   "execution_count": 105,
   "id": "c52e4012",
   "metadata": {},
   "outputs": [],
   "source": [
    "from modules.loader import Loader"
   ]
  },
  {
   "cell_type": "code",
   "execution_count": 106,
   "id": "8f014b00",
   "metadata": {},
   "outputs": [
    {
     "name": "stderr",
     "output_type": "stream",
     "text": [
      "C:\\Users\\fpsaw\\Desktop\\42578-Advanced-Business-Analytics\\modules\\loader.py:113: FutureWarning: The default value of regex will change from True to False in a future version.\n",
      "  df['username'] = df['username'].str.replace(\n"
     ]
    }
   ],
   "source": [
    "loader = Loader()\n",
    "df_cust = loader.load_customers()\n",
    "df_inv = loader.load_inventory()\n",
    "df_sal = loader.load_sales_data()\n",
    "df_sal = loader.add_channels(df_sal, df_cust)\n",
    "df_sal = loader.add_nls(df_sal, df_inv)"
   ]
  },
  {
   "cell_type": "code",
   "execution_count": 108,
   "id": "fab519b3",
   "metadata": {},
   "outputs": [
    {
     "name": "stdout",
     "output_type": "stream",
     "text": [
      "All unique items sold: 15518\n",
      "Filtered unique items: 4415\n"
     ]
    }
   ],
   "source": [
    "# Remove invalid items\n",
    "df = df_sal.loc[\n",
    "    (df_sal['NLS'] == False) &\n",
    "    (~df_sal['price'].between(-1, 1, inclusive=True)) &\n",
    "    (~df_sal['cost'].between(-1, 1, inclusive=True))\n",
    "]\n",
    "df = df.groupby(['sku']).sum().reset_index()\n",
    "df = df.loc[\n",
    "    (df['quantity'] > 10) &  # in total at least 10 items sold (minus returns)\n",
    "    (df['price'] > 100),    # in total at least sold for 100 eur\n",
    "    ['sku', 'quantity', 'price']\n",
    "]\n",
    "print('All unique items sold:', len(df_sal.groupby(['sku']).sum()))\n",
    "print('Filtered unique items:', len(df))"
   ]
  },
  {
   "cell_type": "code",
   "execution_count": 110,
   "id": "bd9b6308",
   "metadata": {},
   "outputs": [],
   "source": [
    "sales_sku = list(df_sal.sku.unique())\n",
    "active_products = df_inv.sku.isin(sales_sku)\n",
    "filtered_df = df_inv[active_products]"
   ]
  },
  {
   "cell_type": "code",
   "execution_count": 111,
   "id": "40a76e83",
   "metadata": {},
   "outputs": [],
   "source": [
    "df_sales = pd.merge(df_sal, df_inv, on='sku')\n",
    "df_sales = df_sales.drop(columns=['last_cost', 'NLS_y','unit_price','last_cost','descr','quantity_y'])\n",
    "df_sales = df_sales.rename({'quantity_x': 'quantity','NLS_x':'NLS'}, axis=1) \n",
    "df_sales = df_sales[(df_sales.NLS == False)]"
   ]
  },
  {
   "cell_type": "code",
   "execution_count": 113,
   "id": "ef1e4d3e",
   "metadata": {},
   "outputs": [],
   "source": [
    "df_market = df_sales.loc[\n",
    "    df_sales['quantity'] > 0 & df_sales.category.notnull(),\n",
    "    ['sku', 'invoice_no','category', 'quantity']\n",
    "]\n",
    "\n",
    "basket = df_market.groupby(['invoice_no', 'category']).sum().unstack().reset_index().fillna(0).set_index('invoice_no')\n",
    "basket = basket.applymap(lambda x: 0 if x <= 0 else 1)\n",
    "basket.columns = basket.columns.droplevel()\n",
    "# Mining part\n",
    "frequent_itemsets = fpgrowth(basket.astype(bool), min_support=0.005, use_colnames=True)\n",
    "df_ar = association_rules(frequent_itemsets, metric=\"confidence\", min_threshold=0.1)"
   ]
  },
  {
   "cell_type": "code",
   "execution_count": 114,
   "id": "6cd8dbee",
   "metadata": {},
   "outputs": [],
   "source": [
    "# Additional requirement from the company to limit number of antecedents and consequents (max 2)\n",
    "df_ar = df_ar.sort_values(by=['confidence'], ascending=False).iloc[::2, :]\n",
    "df_ar = df_ar.loc[df_ar.antecedents.apply(lambda x: len(x) < 3) &\n",
    "                  df_ar.consequents.apply(lambda x: len(x) < 3) ]"
   ]
  },
  {
   "cell_type": "code",
   "execution_count": 115,
   "id": "8ed7f44a",
   "metadata": {},
   "outputs": [],
   "source": [
    "def does_intersect(ant, cats):\n",
    "    return ((set(cats) & set(ant)) == set(ant))\n",
    "\n",
    "def does_not_intersect(con, cats):\n",
    "    return len(set(cats) & set(con)) == 0"
   ]
  },
  {
   "cell_type": "code",
   "execution_count": 116,
   "id": "ad0833bb",
   "metadata": {},
   "outputs": [],
   "source": [
    "def get_recommendations(cats, df_ar, top_k=3):\n",
    "    # Finds association rules with provided categories\n",
    "    subset = df_ar.loc[df_ar.antecedents.apply(lambda ant: does_intersect(ant, cats))]\n",
    "    # Removes association rules which already contain ordered categories\n",
    "    subset = subset.loc[subset.consequents.apply(lambda con: does_not_intersect(con, cats))]\n",
    "    print(subset.sort_values(by='confidence', ascending=False).iloc[:3, 0:])"
   ]
  },
  {
   "cell_type": "code",
   "execution_count": 117,
   "id": "24ab9a43",
   "metadata": {},
   "outputs": [
    {
     "name": "stdout",
     "output_type": "stream",
     "text": [
      "                 antecedents                           consequents  \\\n",
      "329  (Electric Circular Saw)                   (Acu Angle Grinder)   \n",
      "288  (Electric Circular Saw)                     (Electric Jigsaw)   \n",
      "334  (Electric Circular Saw)  (Electric Router, Acu Angle Grinder)   \n",
      "\n",
      "     antecedent support  consequent support   support  confidence      lift  \\\n",
      "329            0.040943            0.109948  0.012945    0.316162  2.875551   \n",
      "288            0.040943            0.034793  0.008227    0.200944  5.775483   \n",
      "334            0.040943            0.021365  0.005941    0.145104  6.791686   \n",
      "\n",
      "     leverage  conviction  \n",
      "329  0.008443    1.301553  \n",
      "288  0.006803    1.207934  \n",
      "334  0.005066    1.144742  \n"
     ]
    }
   ],
   "source": [
    "get_recommendations(['Acu Screwdriver', 'Electric Circular Saw', 'Bits Set'], df_ar)"
   ]
  },
  {
   "cell_type": "markdown",
   "id": "aa9e8937",
   "metadata": {},
   "source": [
    "### Conclusion / Results\n",
    "To assess how well association rules correspond to the expected causal combinations, we've conducted empirical tests with the CEO of the company. \n",
    "\n",
    "We have found that the algorithm is sensitive to sorting metrics which results in different although mostly correct results. For example descending lift provides itemsets where both antecedents and consequents are larger in size. Confidence on the other hand outputs minimal size of antecedent itemset. In the end after experimentation period we have settled on current hyperparameters and metrics that will be used to generate category recommendations further in company's internal order management system."
   ]
  },
  {
   "cell_type": "code",
   "execution_count": null,
   "id": "aed910c7",
   "metadata": {},
   "outputs": [],
   "source": []
  }
 ],
 "metadata": {
  "kernelspec": {
   "display_name": "Python 3",
   "language": "python",
   "name": "python3"
  },
  "language_info": {
   "codemirror_mode": {
    "name": "ipython",
    "version": 3
   },
   "file_extension": ".py",
   "mimetype": "text/x-python",
   "name": "python",
   "nbconvert_exporter": "python",
   "pygments_lexer": "ipython3",
   "version": "3.8.9"
  }
 },
 "nbformat": 4,
 "nbformat_minor": 5
}
